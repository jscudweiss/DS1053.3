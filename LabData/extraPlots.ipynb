{
 "cells": [
  {
   "cell_type": "markdown",
   "source": [
    "SETUP"
   ],
   "metadata": {
    "collapsed": false
   }
  },
  {
   "cell_type": "code",
   "execution_count": 102,
   "metadata": {
    "collapsed": true
   },
   "outputs": [],
   "source": [
    "import numpy as np\n",
    "import pandas\n",
    "import pandas as pd\n",
    "import matplotlib.pyplot as plt\n",
    "import datetime as dt"
   ]
  },
  {
   "cell_type": "code",
   "execution_count": 103,
   "outputs": [],
   "source": [
    "df = pd.read_csv(\"N_seaice_extent_daily_v3.0.csv\")"
   ],
   "metadata": {
    "collapsed": false,
    "pycharm": {
     "name": "#%%\n"
    }
   }
  },
  {
   "cell_type": "code",
   "execution_count": 104,
   "outputs": [
    {
     "name": "stdout",
     "output_type": "stream",
     "text": [
      "   Year   Month   Day       Extent      Missing  \\\n",
      "0  YYYY      MM    DD   10^6 sq km   10^6 sq km   \n",
      "1  1978      10    26       10.231        0.000   \n",
      "2  1978      10    28       10.420        0.000   \n",
      "3  1978      10    30       10.557        0.000   \n",
      "4  1978      11    01       10.670        0.000   \n",
      "\n",
      "                                         Source Data  \n",
      "0   Source data product web sites: http://nsidc.o...  \n",
      "1   ['/ecs/DP1/PM/NSIDC-0051.001/1978.10.26/nt_19...  \n",
      "2   ['/ecs/DP1/PM/NSIDC-0051.001/1978.10.28/nt_19...  \n",
      "3   ['/ecs/DP1/PM/NSIDC-0051.001/1978.10.30/nt_19...  \n",
      "4   ['/ecs/DP1/PM/NSIDC-0051.001/1978.11.01/nt_19...  \n",
      "\n",
      "\n",
      "<class 'pandas.core.frame.DataFrame'>\n",
      "RangeIndex: 14175 entries, 0 to 14174\n",
      "Data columns (total 6 columns):\n",
      " #   Column        Non-Null Count  Dtype \n",
      "---  ------        --------------  ----- \n",
      " 0   Year          14175 non-null  object\n",
      " 1    Month        14175 non-null  object\n",
      " 2    Day          14175 non-null  object\n",
      " 3        Extent   14175 non-null  object\n",
      " 4       Missing   14175 non-null  object\n",
      " 5    Source Data  14175 non-null  object\n",
      "dtypes: object(6)\n",
      "memory usage: 664.6+ KB\n",
      "None\n",
      "\n",
      "\n",
      "Index(['Year', ' Month', ' Day', '     Extent', '    Missing', ' Source Data'], dtype='object')\n"
     ]
    }
   ],
   "source": [
    "print(df.head())\n",
    "print(\"\\n\")\n",
    "print(df.info())\n",
    "print(\"\\n\")\n",
    "print(df.columns)"
   ],
   "metadata": {
    "collapsed": false,
    "pycharm": {
     "name": "#%%\n"
    }
   }
  },
  {
   "cell_type": "code",
   "execution_count": 105,
   "outputs": [
    {
     "data": {
      "text/plain": "{'1978',\n '1979',\n '1980',\n '1981',\n '1982',\n '1983',\n '1984',\n '1985',\n '1986',\n '1987',\n '1988',\n '1989',\n '1990',\n '1991',\n '1992',\n '1993',\n '1994',\n '1995',\n '1996',\n '1997',\n '1998',\n '1999',\n '2000',\n '2001',\n '2002',\n '2003',\n '2004',\n '2005',\n '2006',\n '2007',\n '2008',\n '2009',\n '2010',\n '2011',\n '2012',\n '2013',\n '2014',\n '2015',\n '2016',\n '2017',\n '2018',\n '2019',\n '2020',\n '2021',\n '2022'}"
     },
     "execution_count": 105,
     "metadata": {},
     "output_type": "execute_result"
    }
   ],
   "source": [
    "df.drop(0, inplace=True)\n",
    "years = set(df['Year'])\n",
    "years"
   ],
   "metadata": {
    "collapsed": false,
    "pycharm": {
     "name": "#%%\n"
    }
   }
  },
  {
   "cell_type": "code",
   "execution_count": 106,
   "outputs": [
    {
     "data": {
      "text/plain": "Index(['Year', 'Month', 'Day', 'Extent', 'Missing', 'SourceData'], dtype='object')"
     },
     "execution_count": 106,
     "metadata": {},
     "output_type": "execute_result"
    }
   ],
   "source": [
    "df.columns = df.columns.str.replace(' ', \"\")\n",
    "df.columns"
   ],
   "metadata": {
    "collapsed": false,
    "pycharm": {
     "name": "#%%\n"
    }
   }
  },
  {
   "cell_type": "code",
   "execution_count": 107,
   "outputs": [],
   "source": [
    "df.drop(\"Missing\", axis=1, inplace=True)\n",
    "df.drop(\"SourceData\", axis=1, inplace=True)"
   ],
   "metadata": {
    "collapsed": false,
    "pycharm": {
     "name": "#%%\n"
    }
   }
  },
  {
   "cell_type": "code",
   "execution_count": 108,
   "outputs": [
    {
     "data": {
      "text/plain": "       Year  Month  Day  Extent\n1      1978     10   26  10.231\n2      1978     10   28  10.420\n3      1978     10   30  10.557\n4      1978     11    1  10.670\n5      1978     11    3  10.777\n...     ...    ...  ...     ...\n14170  2022      2   19  14.712\n14171  2022      2   20  14.729\n14172  2022      2   21  14.933\n14173  2022      2   22  14.923\n14174  2022      2   23  14.882\n\n[14174 rows x 4 columns]",
      "text/html": "<div>\n<style scoped>\n    .dataframe tbody tr th:only-of-type {\n        vertical-align: middle;\n    }\n\n    .dataframe tbody tr th {\n        vertical-align: top;\n    }\n\n    .dataframe thead th {\n        text-align: right;\n    }\n</style>\n<table border=\"1\" class=\"dataframe\">\n  <thead>\n    <tr style=\"text-align: right;\">\n      <th></th>\n      <th>Year</th>\n      <th>Month</th>\n      <th>Day</th>\n      <th>Extent</th>\n    </tr>\n  </thead>\n  <tbody>\n    <tr>\n      <th>1</th>\n      <td>1978</td>\n      <td>10</td>\n      <td>26</td>\n      <td>10.231</td>\n    </tr>\n    <tr>\n      <th>2</th>\n      <td>1978</td>\n      <td>10</td>\n      <td>28</td>\n      <td>10.420</td>\n    </tr>\n    <tr>\n      <th>3</th>\n      <td>1978</td>\n      <td>10</td>\n      <td>30</td>\n      <td>10.557</td>\n    </tr>\n    <tr>\n      <th>4</th>\n      <td>1978</td>\n      <td>11</td>\n      <td>1</td>\n      <td>10.670</td>\n    </tr>\n    <tr>\n      <th>5</th>\n      <td>1978</td>\n      <td>11</td>\n      <td>3</td>\n      <td>10.777</td>\n    </tr>\n    <tr>\n      <th>...</th>\n      <td>...</td>\n      <td>...</td>\n      <td>...</td>\n      <td>...</td>\n    </tr>\n    <tr>\n      <th>14170</th>\n      <td>2022</td>\n      <td>2</td>\n      <td>19</td>\n      <td>14.712</td>\n    </tr>\n    <tr>\n      <th>14171</th>\n      <td>2022</td>\n      <td>2</td>\n      <td>20</td>\n      <td>14.729</td>\n    </tr>\n    <tr>\n      <th>14172</th>\n      <td>2022</td>\n      <td>2</td>\n      <td>21</td>\n      <td>14.933</td>\n    </tr>\n    <tr>\n      <th>14173</th>\n      <td>2022</td>\n      <td>2</td>\n      <td>22</td>\n      <td>14.923</td>\n    </tr>\n    <tr>\n      <th>14174</th>\n      <td>2022</td>\n      <td>2</td>\n      <td>23</td>\n      <td>14.882</td>\n    </tr>\n  </tbody>\n</table>\n<p>14174 rows × 4 columns</p>\n</div>"
     },
     "execution_count": 108,
     "metadata": {},
     "output_type": "execute_result"
    }
   ],
   "source": [
    "df.columns\n",
    "df=df.astype(float)\n",
    "df.Year = df.Year.astype(int);\n",
    "df.Month = df.Month.astype(int);\n",
    "df.Day = df.Day.astype(int);\n",
    "years = set(df['Year'])\n",
    "df"
   ],
   "metadata": {
    "collapsed": false,
    "pycharm": {
     "name": "#%%\n"
    }
   }
  },
  {
   "cell_type": "code",
   "execution_count": 109,
   "outputs": [
    {
     "data": {
      "text/plain": "Index(['Year', 'Month', 'Day', 'Extent', 'Date'], dtype='object')"
     },
     "execution_count": 109,
     "metadata": {},
     "output_type": "execute_result"
    }
   ],
   "source": [
    "df[\"Date\"] = [dt.date(Year,Month,Day) for Year,Month,Day in zip(df[\"Year\"],df[\"Month\"],df[\"Day\"])]\n",
    "df.columns"
   ],
   "metadata": {
    "collapsed": false,
    "pycharm": {
     "name": "#%%\n"
    }
   }
  },
  {
   "cell_type": "markdown",
   "source": [
    "plot 1 Fill_between plot"
   ],
   "metadata": {
    "collapsed": false
   }
  },
  {
   "cell_type": "code",
   "execution_count": 110,
   "outputs": [
    {
     "data": {
      "text/plain": "Empty DataFrame\nColumns: [Min, Max, Avg, Year]\nIndex: []",
      "text/html": "<div>\n<style scoped>\n    .dataframe tbody tr th:only-of-type {\n        vertical-align: middle;\n    }\n\n    .dataframe tbody tr th {\n        vertical-align: top;\n    }\n\n    .dataframe thead th {\n        text-align: right;\n    }\n</style>\n<table border=\"1\" class=\"dataframe\">\n  <thead>\n    <tr style=\"text-align: right;\">\n      <th></th>\n      <th>Min</th>\n      <th>Max</th>\n      <th>Avg</th>\n      <th>Year</th>\n    </tr>\n  </thead>\n  <tbody>\n  </tbody>\n</table>\n</div>"
     },
     "execution_count": 110,
     "metadata": {},
     "output_type": "execute_result"
    }
   ],
   "source": [
    "YDF = pd.DataFrame(columns=[\"Min\",\"Max\",\"Avg\",\"Year\"])\n",
    "YDF"
   ],
   "metadata": {
    "collapsed": false,
    "pycharm": {
     "name": "#%%\n"
    }
   }
  },
  {
   "cell_type": "code",
   "execution_count": 111,
   "outputs": [],
   "source": [
    "YDF[\"Year\"] = [year for year in years]\n",
    "YDF[\"Min\"] = [df[df[\"Year\"]==year].Extent.min() for year in years]\n",
    "YDF[\"Max\"] = [df[df[\"Year\"]==year].Extent.max() for year in years]\n",
    "YDF[\"Avg\"] = [df[df[\"Year\"]==year].Extent.mean() for year in years]"
   ],
   "metadata": {
    "collapsed": false,
    "pycharm": {
     "name": "#%%\n"
    }
   }
  },
  {
   "cell_type": "code",
   "execution_count": 112,
   "outputs": [
    {
     "data": {
      "text/plain": "       Min     Max        Avg  Year\n0   10.231  14.585  12.487000  1978\n1    6.895  16.635  12.319560  1979\n2    7.533  16.302  12.334148  1980\n3    6.902  15.801  12.135486  1981\n4    7.160  16.325  12.439445  1982\n5    7.204  16.412  12.335896  1983\n6    6.396  15.809  11.912601  1984\n7    6.486  16.163  11.986599  1985\n8    7.122  16.158  12.208224  1986\n9    6.890  16.293  11.397227  1987\n10   7.048  16.309  12.093169  1988\n11   6.888  15.766  11.966855  1989\n12   6.011  16.249  11.693841  1990\n13   6.259  15.647  11.749258  1991\n14   7.159  15.576  12.110481  1992\n15   6.161  16.048  11.923052  1993\n16   6.934  15.770  12.011318  1994\n17   6.012  15.384  11.415110  1995\n18   7.147  15.484  11.840787  1996\n19   6.602  15.684  11.667614  1997\n20   6.293  16.070  11.757381  1998\n21   5.676  15.627  11.691466  1999\n22   5.943  15.498  11.508175  2000\n23   6.567  15.742  11.600016  2001\n24   5.625  15.624  11.362866  2002\n25   5.969  15.629  11.397222  2003\n26   5.770  15.300  11.240434  2004\n27   5.314  14.993  10.906975  2005\n28   5.746  14.777  10.772614  2006\n29   4.147  14.842  10.474096  2007\n30   4.548  15.354  10.977847  2008\n31   5.047  15.195  10.931970  2009\n32   4.590  15.351  10.711392  2010\n33   4.333  14.704  10.483496  2011\n34   3.340  15.307  10.406098  2012\n35   5.040  15.196  10.897115  2013\n36   4.988  15.007  10.790496  2014\n37   4.387  14.554  10.565816  2015\n38   4.145  14.566  10.163478  2016\n39   4.635  14.449  10.392701  2017\n40   4.630  14.499  10.355041  2018\n41   4.166  14.896  10.200984  2019\n42   3.793  15.071  10.149869  2020\n43   4.703  14.866  10.526066  2021\n44  13.302  14.933  14.178963  2022",
      "text/html": "<div>\n<style scoped>\n    .dataframe tbody tr th:only-of-type {\n        vertical-align: middle;\n    }\n\n    .dataframe tbody tr th {\n        vertical-align: top;\n    }\n\n    .dataframe thead th {\n        text-align: right;\n    }\n</style>\n<table border=\"1\" class=\"dataframe\">\n  <thead>\n    <tr style=\"text-align: right;\">\n      <th></th>\n      <th>Min</th>\n      <th>Max</th>\n      <th>Avg</th>\n      <th>Year</th>\n    </tr>\n  </thead>\n  <tbody>\n    <tr>\n      <th>0</th>\n      <td>10.231</td>\n      <td>14.585</td>\n      <td>12.487000</td>\n      <td>1978</td>\n    </tr>\n    <tr>\n      <th>1</th>\n      <td>6.895</td>\n      <td>16.635</td>\n      <td>12.319560</td>\n      <td>1979</td>\n    </tr>\n    <tr>\n      <th>2</th>\n      <td>7.533</td>\n      <td>16.302</td>\n      <td>12.334148</td>\n      <td>1980</td>\n    </tr>\n    <tr>\n      <th>3</th>\n      <td>6.902</td>\n      <td>15.801</td>\n      <td>12.135486</td>\n      <td>1981</td>\n    </tr>\n    <tr>\n      <th>4</th>\n      <td>7.160</td>\n      <td>16.325</td>\n      <td>12.439445</td>\n      <td>1982</td>\n    </tr>\n    <tr>\n      <th>5</th>\n      <td>7.204</td>\n      <td>16.412</td>\n      <td>12.335896</td>\n      <td>1983</td>\n    </tr>\n    <tr>\n      <th>6</th>\n      <td>6.396</td>\n      <td>15.809</td>\n      <td>11.912601</td>\n      <td>1984</td>\n    </tr>\n    <tr>\n      <th>7</th>\n      <td>6.486</td>\n      <td>16.163</td>\n      <td>11.986599</td>\n      <td>1985</td>\n    </tr>\n    <tr>\n      <th>8</th>\n      <td>7.122</td>\n      <td>16.158</td>\n      <td>12.208224</td>\n      <td>1986</td>\n    </tr>\n    <tr>\n      <th>9</th>\n      <td>6.890</td>\n      <td>16.293</td>\n      <td>11.397227</td>\n      <td>1987</td>\n    </tr>\n    <tr>\n      <th>10</th>\n      <td>7.048</td>\n      <td>16.309</td>\n      <td>12.093169</td>\n      <td>1988</td>\n    </tr>\n    <tr>\n      <th>11</th>\n      <td>6.888</td>\n      <td>15.766</td>\n      <td>11.966855</td>\n      <td>1989</td>\n    </tr>\n    <tr>\n      <th>12</th>\n      <td>6.011</td>\n      <td>16.249</td>\n      <td>11.693841</td>\n      <td>1990</td>\n    </tr>\n    <tr>\n      <th>13</th>\n      <td>6.259</td>\n      <td>15.647</td>\n      <td>11.749258</td>\n      <td>1991</td>\n    </tr>\n    <tr>\n      <th>14</th>\n      <td>7.159</td>\n      <td>15.576</td>\n      <td>12.110481</td>\n      <td>1992</td>\n    </tr>\n    <tr>\n      <th>15</th>\n      <td>6.161</td>\n      <td>16.048</td>\n      <td>11.923052</td>\n      <td>1993</td>\n    </tr>\n    <tr>\n      <th>16</th>\n      <td>6.934</td>\n      <td>15.770</td>\n      <td>12.011318</td>\n      <td>1994</td>\n    </tr>\n    <tr>\n      <th>17</th>\n      <td>6.012</td>\n      <td>15.384</td>\n      <td>11.415110</td>\n      <td>1995</td>\n    </tr>\n    <tr>\n      <th>18</th>\n      <td>7.147</td>\n      <td>15.484</td>\n      <td>11.840787</td>\n      <td>1996</td>\n    </tr>\n    <tr>\n      <th>19</th>\n      <td>6.602</td>\n      <td>15.684</td>\n      <td>11.667614</td>\n      <td>1997</td>\n    </tr>\n    <tr>\n      <th>20</th>\n      <td>6.293</td>\n      <td>16.070</td>\n      <td>11.757381</td>\n      <td>1998</td>\n    </tr>\n    <tr>\n      <th>21</th>\n      <td>5.676</td>\n      <td>15.627</td>\n      <td>11.691466</td>\n      <td>1999</td>\n    </tr>\n    <tr>\n      <th>22</th>\n      <td>5.943</td>\n      <td>15.498</td>\n      <td>11.508175</td>\n      <td>2000</td>\n    </tr>\n    <tr>\n      <th>23</th>\n      <td>6.567</td>\n      <td>15.742</td>\n      <td>11.600016</td>\n      <td>2001</td>\n    </tr>\n    <tr>\n      <th>24</th>\n      <td>5.625</td>\n      <td>15.624</td>\n      <td>11.362866</td>\n      <td>2002</td>\n    </tr>\n    <tr>\n      <th>25</th>\n      <td>5.969</td>\n      <td>15.629</td>\n      <td>11.397222</td>\n      <td>2003</td>\n    </tr>\n    <tr>\n      <th>26</th>\n      <td>5.770</td>\n      <td>15.300</td>\n      <td>11.240434</td>\n      <td>2004</td>\n    </tr>\n    <tr>\n      <th>27</th>\n      <td>5.314</td>\n      <td>14.993</td>\n      <td>10.906975</td>\n      <td>2005</td>\n    </tr>\n    <tr>\n      <th>28</th>\n      <td>5.746</td>\n      <td>14.777</td>\n      <td>10.772614</td>\n      <td>2006</td>\n    </tr>\n    <tr>\n      <th>29</th>\n      <td>4.147</td>\n      <td>14.842</td>\n      <td>10.474096</td>\n      <td>2007</td>\n    </tr>\n    <tr>\n      <th>30</th>\n      <td>4.548</td>\n      <td>15.354</td>\n      <td>10.977847</td>\n      <td>2008</td>\n    </tr>\n    <tr>\n      <th>31</th>\n      <td>5.047</td>\n      <td>15.195</td>\n      <td>10.931970</td>\n      <td>2009</td>\n    </tr>\n    <tr>\n      <th>32</th>\n      <td>4.590</td>\n      <td>15.351</td>\n      <td>10.711392</td>\n      <td>2010</td>\n    </tr>\n    <tr>\n      <th>33</th>\n      <td>4.333</td>\n      <td>14.704</td>\n      <td>10.483496</td>\n      <td>2011</td>\n    </tr>\n    <tr>\n      <th>34</th>\n      <td>3.340</td>\n      <td>15.307</td>\n      <td>10.406098</td>\n      <td>2012</td>\n    </tr>\n    <tr>\n      <th>35</th>\n      <td>5.040</td>\n      <td>15.196</td>\n      <td>10.897115</td>\n      <td>2013</td>\n    </tr>\n    <tr>\n      <th>36</th>\n      <td>4.988</td>\n      <td>15.007</td>\n      <td>10.790496</td>\n      <td>2014</td>\n    </tr>\n    <tr>\n      <th>37</th>\n      <td>4.387</td>\n      <td>14.554</td>\n      <td>10.565816</td>\n      <td>2015</td>\n    </tr>\n    <tr>\n      <th>38</th>\n      <td>4.145</td>\n      <td>14.566</td>\n      <td>10.163478</td>\n      <td>2016</td>\n    </tr>\n    <tr>\n      <th>39</th>\n      <td>4.635</td>\n      <td>14.449</td>\n      <td>10.392701</td>\n      <td>2017</td>\n    </tr>\n    <tr>\n      <th>40</th>\n      <td>4.630</td>\n      <td>14.499</td>\n      <td>10.355041</td>\n      <td>2018</td>\n    </tr>\n    <tr>\n      <th>41</th>\n      <td>4.166</td>\n      <td>14.896</td>\n      <td>10.200984</td>\n      <td>2019</td>\n    </tr>\n    <tr>\n      <th>42</th>\n      <td>3.793</td>\n      <td>15.071</td>\n      <td>10.149869</td>\n      <td>2020</td>\n    </tr>\n    <tr>\n      <th>43</th>\n      <td>4.703</td>\n      <td>14.866</td>\n      <td>10.526066</td>\n      <td>2021</td>\n    </tr>\n    <tr>\n      <th>44</th>\n      <td>13.302</td>\n      <td>14.933</td>\n      <td>14.178963</td>\n      <td>2022</td>\n    </tr>\n  </tbody>\n</table>\n</div>"
     },
     "execution_count": 112,
     "metadata": {},
     "output_type": "execute_result"
    }
   ],
   "source": [
    "YDF"
   ],
   "metadata": {
    "collapsed": false,
    "pycharm": {
     "name": "#%%\n"
    }
   }
  },
  {
   "cell_type": "code",
   "execution_count": 113,
   "outputs": [
    {
     "data": {
      "text/plain": "[<matplotlib.lines.Line2D at 0x15d13576260>]"
     },
     "execution_count": 113,
     "metadata": {},
     "output_type": "execute_result"
    },
    {
     "data": {
      "text/plain": "<Figure size 720x720 with 1 Axes>",
      "image/png": "[encoded data removed]"
     },
     "metadata": {
      "needs_background": "light"
     },
     "output_type": "display_data"
    }
   ],
   "source": [
    "plt.rc('figure', figsize=(10, 10))\n",
    "plt.fill_between(YDF.Year, YDF.Min, YDF.Max)\n",
    "plt.plot(YDF.Year,YDF.Avg, 'r')"
   ],
   "metadata": {
    "collapsed": false,
    "pycharm": {
     "name": "#%%\n"
    }
   }
  },
  {
   "cell_type": "markdown",
   "source": [
    "plot 2 Box plot 1980"
   ],
   "metadata": {
    "collapsed": false
   }
  },
  {
   "cell_type": "code",
   "execution_count": 113,
   "outputs": [],
   "source": [],
   "metadata": {
    "collapsed": false,
    "pycharm": {
     "name": "#%%\n"
    }
   }
  },
  {
   "cell_type": "code",
   "execution_count": 113,
   "outputs": [],
   "source": [],
   "metadata": {
    "collapsed": false,
    "pycharm": {
     "name": "#%%\n"
    }
   }
  },
  {
   "cell_type": "code",
   "execution_count": 113,
   "outputs": [],
   "source": [],
   "metadata": {
    "collapsed": false,
    "pycharm": {
     "name": "#%%\n"
    }
   }
  }
 ],
 "metadata": {
  "kernelspec": {
   "display_name": "Python 3",
   "language": "python",
   "name": "python3"
  },
  "language_info": {
   "codemirror_mode": {
    "name": "ipython",
    "version": 2
   },
   "file_extension": ".py",
   "mimetype": "text/x-python",
   "name": "python",
   "nbconvert_exporter": "python",
   "pygments_lexer": "ipython2",
   "version": "2.7.6"
  }
 },
 "nbformat": 4,
 "nbformat_minor": 0
}