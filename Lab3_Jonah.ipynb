{
  "cells": [
    {
      "cell_type": "markdown",
      "metadata": {
        "id": "hpvqQmAtmU6l"
      },
      "source": [
        "# CS105/305    Lab 3   -  Pandas on Ice"
      ]
    },
    {
      "cell_type": "code",
      "execution_count": 2,
      "metadata": {
        "id": "CZgaz88jmU6q"
      },
      "outputs": [],
      "source": [
        "import numpy as np\n",
        "import pandas as pd\n",
        "import matplotlib.pyplot as plt"
      ]
    },
    {
      "cell_type": "markdown",
      "metadata": {
        "id": "EdeWuqJJmU6s"
      },
      "source": [
        "The National Snow and Ice Data Center (https://nsidc.org/) maintains a lot of information about snow and ice.  One of their datasets concerns \"sea ice,\" that is, ice which is floating on some ocean or other seawater body.  Almost all of this is either in the Arctic or Antarctic regions and, as you can imagine, the extent of the ice changes over the course of each year.  It's also changing in longer timeframes and this has attracted quite a lot of attention from climate scientists.  We're going to look at some data on the extent of Arctic ice.  There's a nifty tool for visualizing the data we're going to look at here: https://nsidc.org/arcticseaicenews/charctic-interactive-sea-ice-graph/\n",
        "\n",
        "Begin by having a look at https://nsidc.org/data/g02135 and downloading the data file for this lab.  "
      ]
    },
    {
      "cell_type": "markdown",
      "metadata": {
        "id": "akGaTVDImU6t"
      },
      "source": [
        "Load the data into Pandas - you might want to look at some of the options to read_csv()"
      ]
    },
    {
      "cell_type": "code",
      "source": [
        "df = pd.read_csv(\"N_seaice_extent_daily_v3.0.csv\")"
      ],
      "metadata": {
        "id": "a-eeCvclncNN"
      },
      "execution_count": null,
      "outputs": []
    },
    {
      "cell_type": "markdown",
      "metadata": {
        "id": "Jm3i5ifNmU6u"
      },
      "source": [
        "Use info() and head() to get a look at the data.  Also look at the columns attribute of your DataFrame."
      ]
    },
    {
      "cell_type": "code",
      "source": [
        "print(df.head())\n",
        "print()\n",
        "print(df.info())\n",
        "print()\n",
        "print(df.columns)"
      ],
      "metadata": {
        "colab": {
          "base_uri": "https://localhost:8080/"
        },
        "id": "ANzjXQl5ncsM",
        "outputId": "9a405f85-ba81-49e0-8368-8ee8d2a38799"
      },
      "execution_count": 9,
      "outputs": [
        {
          "output_type": "stream",
          "name": "stdout",
          "text": [
            "   Year   Month  ...      Missing                                        Source Data\n",
            "0  YYYY      MM  ...   10^6 sq km   Source data product web sites: http://nsidc.o...\n",
            "1  1978      10  ...        0.000   ['/ecs/DP1/PM/NSIDC-0051.001/1978.10.26/nt_19...\n",
            "2  1978      10  ...        0.000   ['/ecs/DP1/PM/NSIDC-0051.001/1978.10.28/nt_19...\n",
            "3  1978      10  ...        0.000   ['/ecs/DP1/PM/NSIDC-0051.001/1978.10.30/nt_19...\n",
            "4  1978      11  ...        0.000   ['/ecs/DP1/PM/NSIDC-0051.001/1978.11.01/nt_19...\n",
            "\n",
            "[5 rows x 6 columns]\n",
            "\n",
            "<class 'pandas.core.frame.DataFrame'>\n",
            "RangeIndex: 14175 entries, 0 to 14174\n",
            "Data columns (total 6 columns):\n",
            " #   Column        Non-Null Count  Dtype \n",
            "---  ------        --------------  ----- \n",
            " 0   Year          14175 non-null  object\n",
            " 1    Month        14175 non-null  object\n",
            " 2    Day          14175 non-null  object\n",
            " 3        Extent   14175 non-null  object\n",
            " 4       Missing   14175 non-null  object\n",
            " 5    Source Data  14175 non-null  object\n",
            "dtypes: object(6)\n",
            "memory usage: 664.6+ KB\n",
            "None\n",
            "\n",
            "Index(['Year', ' Month', ' Day', '     Extent', '    Missing', ' Source Data'], dtype='object')\n"
          ]
        }
      ]
    },
    {
      "cell_type": "markdown",
      "metadata": {
        "id": "FbE9hbNTmU6u"
      },
      "source": [
        "Find out what years are represented in this dataset."
      ]
    },
    {
      "cell_type": "code",
      "source": [
        ""
      ],
      "metadata": {
        "id": "hiHQ1gQKndH1"
      },
      "execution_count": null,
      "outputs": []
    },
    {
      "cell_type": "markdown",
      "metadata": {
        "id": "P7Z3bW1HmU6v"
      },
      "source": [
        "Check the labels on the columns and if they have spaces in them, remove the spaces"
      ]
    },
    {
      "cell_type": "code",
      "source": [
        ""
      ],
      "metadata": {
        "id": "o-Fi7A57ndhx"
      },
      "execution_count": null,
      "outputs": []
    },
    {
      "cell_type": "markdown",
      "metadata": {
        "id": "6YMXAX78mU6w"
      },
      "source": [
        "Drop the Missing and Source Data columns from the data, leaving the other columns."
      ]
    },
    {
      "cell_type": "code",
      "source": [
        ""
      ],
      "metadata": {
        "id": "l99StZBtneNO"
      },
      "execution_count": null,
      "outputs": []
    },
    {
      "cell_type": "markdown",
      "metadata": {
        "id": "t6lwiYSJmU61"
      },
      "source": [
        "Build a subset of the data with only rows from 2021"
      ]
    },
    {
      "cell_type": "code",
      "source": [
        ""
      ],
      "metadata": {
        "id": "G0piMuPYnenh"
      },
      "execution_count": null,
      "outputs": []
    },
    {
      "cell_type": "markdown",
      "metadata": {
        "id": "gxovK5NxmU62"
      },
      "source": [
        "Plot the Extent column for this subset"
      ]
    },
    {
      "cell_type": "code",
      "source": [
        ""
      ],
      "metadata": {
        "id": "67O6-3vAnfd8"
      },
      "execution_count": null,
      "outputs": []
    },
    {
      "cell_type": "markdown",
      "metadata": {
        "id": "ihVHApBlmU62"
      },
      "source": [
        "It turns out that the minimum extent is always sometime in September.  Build a version of the dataset with only the month of September for each year."
      ]
    },
    {
      "cell_type": "code",
      "source": [
        ""
      ],
      "metadata": {
        "id": "8S81ONKmngSD"
      },
      "execution_count": null,
      "outputs": []
    },
    {
      "cell_type": "markdown",
      "metadata": {
        "id": "jw9o009omU62"
      },
      "source": [
        "Plot just the extent for September in 2021.  You should see that the minimum was on the 13th.  "
      ]
    },
    {
      "cell_type": "code",
      "source": [
        ""
      ],
      "metadata": {
        "id": "9rCaF9yMnhA8"
      },
      "execution_count": null,
      "outputs": []
    },
    {
      "cell_type": "markdown",
      "metadata": {
        "id": "5pCAROqHmU63"
      },
      "source": [
        "For each year, find the day (number starting with 1) of the minimum value."
      ]
    },
    {
      "cell_type": "code",
      "source": [
        ""
      ],
      "metadata": {
        "id": "rOCPd4oxnhhP"
      },
      "execution_count": null,
      "outputs": []
    },
    {
      "cell_type": "markdown",
      "metadata": {
        "id": "QRuuwBh6mU63"
      },
      "source": [
        "Create a plot of the minimum day for all the years in the set (skip any year with no September data) "
      ]
    },
    {
      "cell_type": "code",
      "source": [
        ""
      ],
      "metadata": {
        "id": "MkjcqcU1nh1k"
      },
      "execution_count": null,
      "outputs": []
    },
    {
      "cell_type": "markdown",
      "metadata": {
        "id": "gM4ilzHUmU63"
      },
      "source": [
        "Find out which month(s) have had maximum extent values.  "
      ]
    },
    {
      "cell_type": "code",
      "source": [
        ""
      ],
      "metadata": {
        "id": "KJ-XCHWCniax"
      },
      "execution_count": null,
      "outputs": []
    },
    {
      "cell_type": "markdown",
      "metadata": {
        "id": "6pS97mKCmU63"
      },
      "source": [
        "For the most common maximum month, repeat the work above and create another plot."
      ]
    },
    {
      "cell_type": "code",
      "source": [
        ""
      ],
      "metadata": {
        "id": "K-r3wHiwniuf"
      },
      "execution_count": null,
      "outputs": []
    },
    {
      "cell_type": "markdown",
      "metadata": {
        "id": "FBkKHkFOmU63"
      },
      "source": [
        "Build a scatter plot of minimum day vs. minimum extent.  Do you see a pattern?"
      ]
    },
    {
      "cell_type": "code",
      "source": [
        ""
      ],
      "metadata": {
        "id": "3VyjUsr1njAe"
      },
      "execution_count": null,
      "outputs": []
    },
    {
      "cell_type": "markdown",
      "metadata": {
        "id": "3OWcmHfwmU64"
      },
      "source": [
        "Submit your work as an attachment in email by Friday, March 4th at 11:59PM.  "
      ]
    }
  ],
  "metadata": {
    "kernelspec": {
      "display_name": "Python 3",
      "language": "python",
      "name": "python3"
    },
    "language_info": {
      "codemirror_mode": {
        "name": "ipython",
        "version": 3
      },
      "file_extension": ".py",
      "mimetype": "text/x-python",
      "name": "python",
      "nbconvert_exporter": "python",
      "pygments_lexer": "ipython3",
      "version": "3.7.3"
    },
    "colab": {
      "name": "Lab3_starter.ipynb",
      "provenance": [],
      "collapsed_sections": [],
      "history_visible": true
    }
  },
  "nbformat": 4,
  "nbformat_minor": 0
}