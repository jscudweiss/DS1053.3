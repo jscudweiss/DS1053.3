{
 "cells": [
  {
   "cell_type": "markdown",
   "metadata": {
    "id": "hpvqQmAtmU6l"
   },
   "source": [
    "# CS105/305    Lab 3   -  Pandas on Ice"
   ]
  },
  {
   "cell_type": "code",
   "execution_count": 75,
   "metadata": {
    "id": "CZgaz88jmU6q"
   },
   "outputs": [],
   "source": [
    "import numpy as np\n",
    "import pandas as pd\n",
    "import matplotlib.pyplot as plt\n",
    "import datetime as dt"
   ]
  },
  {
   "cell_type": "markdown",
   "metadata": {
    "id": "EdeWuqJJmU6s"
   },
   "source": [
    "The National Snow and Ice Data Center (https://nsidc.org/) maintains a lot of information about snow and ice.  One of their datasets concerns \"sea ice,\" that is, ice which is floating on some ocean or other seawater body.  Almost all of this is either in the Arctic or Antarctic regions and, as you can imagine, the extent of the ice changes over the course of each year.  It's also changing in longer timeframes and this has attracted quite a lot of attention from climate scientists.  We're going to look at some data on the extent of Arctic ice.  There's a nifty tool for visualizing the data we're going to look at here: https://nsidc.org/arcticseaicenews/charctic-interactive-sea-ice-graph/\n",
    "\n",
    "Begin by having a look at https://nsidc.org/data/g02135 and downloading the data file for this lab.  "
   ]
  },
  {
   "cell_type": "markdown",
   "metadata": {
    "id": "akGaTVDImU6t"
   },
   "source": [
    "Load the data into Pandas - you might want to look at some of the options to read_csv()"
   ]
  },
  {
   "cell_type": "code",
   "source": [
    "df = pd.read_csv(\"N_seaice_extent_daily_v3.0.csv\")"
   ],
   "metadata": {
    "id": "a-eeCvclncNN"
   },
   "execution_count": 76,
   "outputs": []
  },
  {
   "cell_type": "markdown",
   "metadata": {
    "id": "Jm3i5ifNmU6u"
   },
   "source": [
    "Use info() and head() to get a look at the data.  Also look at the columns attribute of your DataFrame."
   ]
  },
  {
   "cell_type": "code",
   "source": [
    "print(df.head())\n",
    "print(\"\\n\")\n",
    "print(df.info())\n",
    "print(\"\\n\")\n",
    "print(df.columns)"
   ],
   "metadata": {
    "colab": {
     "base_uri": "https://localhost:8080/"
    },
    "id": "ANzjXQl5ncsM",
    "outputId": "9a405f85-ba81-49e0-8368-8ee8d2a38799"
   },
   "execution_count": 77,
   "outputs": [
    {
     "name": "stdout",
     "output_type": "stream",
     "text": [
      "   Year   Month   Day       Extent      Missing  \\\n",
      "0  YYYY      MM    DD   10^6 sq km   10^6 sq km   \n",
      "1  1978      10    26       10.231        0.000   \n",
      "2  1978      10    28       10.420        0.000   \n",
      "3  1978      10    30       10.557        0.000   \n",
      "4  1978      11    01       10.670        0.000   \n",
      "\n",
      "                                         Source Data  \n",
      "0   Source data product web sites: http://nsidc.o...  \n",
      "1   ['/ecs/DP1/PM/NSIDC-0051.001/1978.10.26/nt_19...  \n",
      "2   ['/ecs/DP1/PM/NSIDC-0051.001/1978.10.28/nt_19...  \n",
      "3   ['/ecs/DP1/PM/NSIDC-0051.001/1978.10.30/nt_19...  \n",
      "4   ['/ecs/DP1/PM/NSIDC-0051.001/1978.11.01/nt_19...  \n",
      "\n",
      "\n",
      "<class 'pandas.core.frame.DataFrame'>\n",
      "RangeIndex: 14175 entries, 0 to 14174\n",
      "Data columns (total 6 columns):\n",
      " #   Column        Non-Null Count  Dtype \n",
      "---  ------        --------------  ----- \n",
      " 0   Year          14175 non-null  object\n",
      " 1    Month        14175 non-null  object\n",
      " 2    Day          14175 non-null  object\n",
      " 3        Extent   14175 non-null  object\n",
      " 4       Missing   14175 non-null  object\n",
      " 5    Source Data  14175 non-null  object\n",
      "dtypes: object(6)\n",
      "memory usage: 664.6+ KB\n",
      "None\n",
      "\n",
      "\n",
      "Index(['Year', ' Month', ' Day', '     Extent', '    Missing', ' Source Data'], dtype='object')\n"
     ]
    }
   ]
  },
  {
   "cell_type": "markdown",
   "metadata": {
    "id": "FbE9hbNTmU6u"
   },
   "source": [
    "Find out what years are represented in this dataset."
   ]
  },
  {
   "cell_type": "code",
   "source": [
    "df.drop(0, inplace=True)\n",
    "years = set(df['Year'])\n",
    "years"
   ],
   "metadata": {
    "id": "hiHQ1gQKndH1"
   },
   "execution_count": 78,
   "outputs": [
    {
     "data": {
      "text/plain": "{'1978',\n '1979',\n '1980',\n '1981',\n '1982',\n '1983',\n '1984',\n '1985',\n '1986',\n '1987',\n '1988',\n '1989',\n '1990',\n '1991',\n '1992',\n '1993',\n '1994',\n '1995',\n '1996',\n '1997',\n '1998',\n '1999',\n '2000',\n '2001',\n '2002',\n '2003',\n '2004',\n '2005',\n '2006',\n '2007',\n '2008',\n '2009',\n '2010',\n '2011',\n '2012',\n '2013',\n '2014',\n '2015',\n '2016',\n '2017',\n '2018',\n '2019',\n '2020',\n '2021',\n '2022'}"
     },
     "execution_count": 78,
     "metadata": {},
     "output_type": "execute_result"
    }
   ]
  },
  {
   "cell_type": "markdown",
   "metadata": {
    "id": "P7Z3bW1HmU6v"
   },
   "source": [
    "Check the labels on the columns and if they have spaces in them, remove the spaces"
   ]
  },
  {
   "cell_type": "code",
   "source": [
    "df.columns = df.columns.str.replace(\" \", \"\")\n",
    "df.columns"
   ],
   "metadata": {
    "id": "o-Fi7A57ndhx"
   },
   "execution_count": 79,
   "outputs": [
    {
     "data": {
      "text/plain": "Index(['Year', 'Month', 'Day', 'Extent', 'Missing', 'SourceData'], dtype='object')"
     },
     "execution_count": 79,
     "metadata": {},
     "output_type": "execute_result"
    }
   ]
  },
  {
   "cell_type": "markdown",
   "metadata": {
    "id": "6YMXAX78mU6w"
   },
   "source": [
    "Drop the Missing and Source Data columns from the data, leaving the other columns."
   ]
  },
  {
   "cell_type": "code",
   "source": [
    "df.drop(\"Missing\", axis=1, inplace=True)\n",
    "df.drop(\"SourceData\", axis=1, inplace=True)"
   ],
   "metadata": {
    "id": "l99StZBtneNO"
   },
   "execution_count": 80,
   "outputs": []
  },
  {
   "cell_type": "code",
   "execution_count": 81,
   "outputs": [
    {
     "data": {
      "text/plain": "       Year   Month   Day       Extent\n1      1978      10    26       10.231\n2      1978      10    28       10.420\n3      1978      10    30       10.557\n4      1978      11    01       10.670\n5      1978      11    03       10.777\n...     ...     ...   ...          ...\n14170  2022      02    19       14.712\n14171  2022      02    20       14.729\n14172  2022      02    21       14.933\n14173  2022      02    22       14.923\n14174  2022      02    23       14.882\n\n[14174 rows x 4 columns]",
      "text/html": "<div>\n<style scoped>\n    .dataframe tbody tr th:only-of-type {\n        vertical-align: middle;\n    }\n\n    .dataframe tbody tr th {\n        vertical-align: top;\n    }\n\n    .dataframe thead th {\n        text-align: right;\n    }\n</style>\n<table border=\"1\" class=\"dataframe\">\n  <thead>\n    <tr style=\"text-align: right;\">\n      <th></th>\n      <th>Year</th>\n      <th>Month</th>\n      <th>Day</th>\n      <th>Extent</th>\n    </tr>\n  </thead>\n  <tbody>\n    <tr>\n      <th>1</th>\n      <td>1978</td>\n      <td>10</td>\n      <td>26</td>\n      <td>10.231</td>\n    </tr>\n    <tr>\n      <th>2</th>\n      <td>1978</td>\n      <td>10</td>\n      <td>28</td>\n      <td>10.420</td>\n    </tr>\n    <tr>\n      <th>3</th>\n      <td>1978</td>\n      <td>10</td>\n      <td>30</td>\n      <td>10.557</td>\n    </tr>\n    <tr>\n      <th>4</th>\n      <td>1978</td>\n      <td>11</td>\n      <td>01</td>\n      <td>10.670</td>\n    </tr>\n    <tr>\n      <th>5</th>\n      <td>1978</td>\n      <td>11</td>\n      <td>03</td>\n      <td>10.777</td>\n    </tr>\n    <tr>\n      <th>...</th>\n      <td>...</td>\n      <td>...</td>\n      <td>...</td>\n      <td>...</td>\n    </tr>\n    <tr>\n      <th>14170</th>\n      <td>2022</td>\n      <td>02</td>\n      <td>19</td>\n      <td>14.712</td>\n    </tr>\n    <tr>\n      <th>14171</th>\n      <td>2022</td>\n      <td>02</td>\n      <td>20</td>\n      <td>14.729</td>\n    </tr>\n    <tr>\n      <th>14172</th>\n      <td>2022</td>\n      <td>02</td>\n      <td>21</td>\n      <td>14.933</td>\n    </tr>\n    <tr>\n      <th>14173</th>\n      <td>2022</td>\n      <td>02</td>\n      <td>22</td>\n      <td>14.923</td>\n    </tr>\n    <tr>\n      <th>14174</th>\n      <td>2022</td>\n      <td>02</td>\n      <td>23</td>\n      <td>14.882</td>\n    </tr>\n  </tbody>\n</table>\n<p>14174 rows × 4 columns</p>\n</div>"
     },
     "execution_count": 81,
     "metadata": {},
     "output_type": "execute_result"
    }
   ],
   "source": [
    "df.columns\n",
    "df"
   ],
   "metadata": {
    "collapsed": false,
    "pycharm": {
     "name": "#%%\n"
    }
   }
  },
  {
   "cell_type": "code",
   "execution_count": 99,
   "outputs": [
    {
     "ename": "ValueError",
     "evalue": "too many values to unpack (expected 4)",
     "output_type": "error",
     "traceback": [
      "\u001B[1;31m---------------------------------------------------------------------------\u001B[0m",
      "\u001B[1;31mValueError\u001B[0m                                Traceback (most recent call last)",
      "Input \u001B[1;32mIn [99]\u001B[0m, in \u001B[0;36m<module>\u001B[1;34m\u001B[0m\n\u001B[1;32m----> 1\u001B[0m dfDates \u001B[38;5;241m=\u001B[39m [dt\u001B[38;5;241m.\u001B[39mdate(\u001B[38;5;28mint\u001B[39m(Year),\u001B[38;5;28mint\u001B[39m(Month),\u001B[38;5;28mint\u001B[39m(Day)) \u001B[38;5;28;01mfor\u001B[39;00m Year,Month,Day,Extent \u001B[38;5;129;01min\u001B[39;00m df \u001B[38;5;28;01mif\u001B[39;00m (Year\u001B[38;5;241m.\u001B[39misdigit() \u001B[38;5;241m==\u001B[39m \u001B[38;5;28;01mTrue\u001B[39;00m)]\n\u001B[0;32m      2\u001B[0m \u001B[38;5;28mprint\u001B[39m(dfDates)\n",
      "Input \u001B[1;32mIn [99]\u001B[0m, in \u001B[0;36m<listcomp>\u001B[1;34m(.0)\u001B[0m\n\u001B[1;32m----> 1\u001B[0m dfDates \u001B[38;5;241m=\u001B[39m [dt\u001B[38;5;241m.\u001B[39mdate(\u001B[38;5;28mint\u001B[39m(Year),\u001B[38;5;28mint\u001B[39m(Month),\u001B[38;5;28mint\u001B[39m(Day)) \u001B[38;5;28;01mfor\u001B[39;00m Year,Month,Day,Extent \u001B[38;5;129;01min\u001B[39;00m df \u001B[38;5;28;01mif\u001B[39;00m (Year\u001B[38;5;241m.\u001B[39misdigit() \u001B[38;5;241m==\u001B[39m \u001B[38;5;28;01mTrue\u001B[39;00m)]\n\u001B[0;32m      2\u001B[0m \u001B[38;5;28mprint\u001B[39m(dfDates)\n",
      "\u001B[1;31mValueError\u001B[0m: too many values to unpack (expected 4)"
     ]
    }
   ],
   "source": [
    "dfDates = [dt.date(int(Year),int(Month),int(Day)) for Year,Month,Day,Extent in df if (Year.isdigit() == True)]\n",
    "print(dfDates)"
   ],
   "metadata": {
    "collapsed": false,
    "pycharm": {
     "name": "#%%\n"
    }
   }
  },
  {
   "cell_type": "markdown",
   "metadata": {
    "id": "t6lwiYSJmU61"
   },
   "source": [
    "Build a subset of the data with only rows from 2021"
   ]
  },
  {
   "cell_type": "code",
   "source": [
    "dfNow = df[df[\"Year\"]==\"2021\"]\n",
    "dfNow.co"
   ],
   "metadata": {
    "id": "G0piMuPYnenh"
   },
   "execution_count": null,
   "outputs": []
  },
  {
   "cell_type": "markdown",
   "metadata": {
    "id": "gxovK5NxmU62"
   },
   "source": [
    "Plot the Extent column for this subset"
   ]
  },
  {
   "cell_type": "code",
   "source": [
    "plt.scatter(dfNow.Extent,dt.date(dfNow.Year,dfNow.Month,dfNow.Day))"
   ],
   "metadata": {
    "id": "67O6-3vAnfd8"
   },
   "execution_count": null,
   "outputs": []
  },
  {
   "cell_type": "markdown",
   "metadata": {
    "id": "ihVHApBlmU62"
   },
   "source": [
    "It turns out that the minimum extent is always sometime in September.  Build a version of the dataset with only the month of September for each year."
   ]
  },
  {
   "cell_type": "code",
   "source": [],
   "metadata": {
    "id": "8S81ONKmngSD"
   },
   "execution_count": null,
   "outputs": []
  },
  {
   "cell_type": "markdown",
   "metadata": {
    "id": "jw9o009omU62"
   },
   "source": [
    "Plot just the extent for September in 2021.  You should see that the minimum was on the 13th.  "
   ]
  },
  {
   "cell_type": "code",
   "source": [
    ""
   ],
   "metadata": {
    "id": "9rCaF9yMnhA8"
   },
   "execution_count": null,
   "outputs": []
  },
  {
   "cell_type": "markdown",
   "metadata": {
    "id": "5pCAROqHmU63"
   },
   "source": [
    "For each year, find the day (number starting with 1) of the minimum value."
   ]
  },
  {
   "cell_type": "code",
   "source": [
    ""
   ],
   "metadata": {
    "id": "rOCPd4oxnhhP"
   },
   "execution_count": null,
   "outputs": []
  },
  {
   "cell_type": "markdown",
   "metadata": {
    "id": "QRuuwBh6mU63"
   },
   "source": [
    "Create a plot of the minimum day for all the years in the set (skip any year with no September data) "
   ]
  },
  {
   "cell_type": "code",
   "source": [
    ""
   ],
   "metadata": {
    "id": "MkjcqcU1nh1k"
   },
   "execution_count": null,
   "outputs": []
  },
  {
   "cell_type": "markdown",
   "metadata": {
    "id": "gM4ilzHUmU63"
   },
   "source": [
    "Find out which month(s) have had maximum extent values.  "
   ]
  },
  {
   "cell_type": "code",
   "source": [
    ""
   ],
   "metadata": {
    "id": "KJ-XCHWCniax"
   },
   "execution_count": null,
   "outputs": []
  },
  {
   "cell_type": "markdown",
   "metadata": {
    "id": "6pS97mKCmU63"
   },
   "source": [
    "For the most common maximum month, repeat the work above and create another plot."
   ]
  },
  {
   "cell_type": "code",
   "source": [
    ""
   ],
   "metadata": {
    "id": "K-r3wHiwniuf"
   },
   "execution_count": null,
   "outputs": []
  },
  {
   "cell_type": "markdown",
   "metadata": {
    "id": "FBkKHkFOmU63"
   },
   "source": [
    "Build a scatter plot of minimum day vs. minimum extent.  Do you see a pattern?"
   ]
  },
  {
   "cell_type": "code",
   "source": [
    ""
   ],
   "metadata": {
    "id": "3VyjUsr1njAe"
   },
   "execution_count": null,
   "outputs": []
  },
  {
   "cell_type": "markdown",
   "metadata": {
    "id": "3OWcmHfwmU64"
   },
   "source": [
    "Submit your work as an attachment in email by Friday, March 4th at 11:59PM.  "
   ]
  }
 ],
 "metadata": {
  "kernelspec": {
   "display_name": "Python 3",
   "language": "python",
   "name": "python3"
  },
  "language_info": {
   "codemirror_mode": {
    "name": "ipython",
    "version": 3
   },
   "file_extension": ".py",
   "mimetype": "text/x-python",
   "name": "python",
   "nbconvert_exporter": "python",
   "pygments_lexer": "ipython3",
   "version": "3.7.3"
  },
  "colab": {
   "name": "Lab3_starter.ipynb",
   "provenance": [],
   "collapsed_sections": [],
   "history_visible": true
  }
 },
 "nbformat": 4,
 "nbformat_minor": 0
}