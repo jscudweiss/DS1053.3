{
 "cells": [
  {
   "cell_type": "markdown",
   "metadata": {
    "id": "hpvqQmAtmU6l"
   },
   "source": [
    "# CS105/305    Lab 3   -  Pandas on Ice"
   ]
  },
  {
   "cell_type": "code",
   "execution_count": 382,
   "metadata": {
    "id": "CZgaz88jmU6q"
   },
   "outputs": [],
   "source": [
    "import numpy as np\n",
    "import pandas as pd\n",
    "import matplotlib.pyplot as plt\n",
    "import datetime as dt"
   ]
  },
  {
   "cell_type": "markdown",
   "metadata": {
    "id": "EdeWuqJJmU6s"
   },
   "source": [
    "The National Snow and Ice Data Center (https://nsidc.org/) maintains a lot of information about snow and ice.  One of their datasets concerns \"sea ice,\" that is, ice which is floating on some ocean or other seawater body.  Almost all of this is either in the Arctic or Antarctic regions and, as you can imagine, the extent of the ice changes over the course of each year.  It's also changing in longer timeframes and this has attracted quite a lot of attention from climate scientists.  We're going to look at some data on the extent of Arctic ice.  There's a nifty tool for visualizing the data we're going to look at here: https://nsidc.org/arcticseaicenews/charctic-interactive-sea-ice-graph/\n",
    "\n",
    "Begin by having a look at https://nsidc.org/data/g02135 and downloading the data file for this lab.  "
   ]
  },
  {
   "cell_type": "markdown",
   "metadata": {
    "id": "akGaTVDImU6t"
   },
   "source": [
    "Load the data into Pandas - you might want to look at some of the options to read_csv()"
   ]
  },
  {
   "cell_type": "code",
   "source": [
    "df = pd.read_csv(\"N_seaice_extent_daily_v3.0.csv\")"
   ],
   "metadata": {
    "id": "a-eeCvclncNN"
   },
   "execution_count": 383,
   "outputs": []
  },
  {
   "cell_type": "markdown",
   "metadata": {
    "id": "Jm3i5ifNmU6u"
   },
   "source": [
    "Use info() and head() to get a look at the data.  Also look at the columns attribute of your DataFrame."
   ]
  },
  {
   "cell_type": "code",
   "source": [
    "print(df.head())\n",
    "print(\"\\n\")\n",
    "print(df.info())\n",
    "print(\"\\n\")\n",
    "print(df.columns)"
   ],
   "metadata": {
    "colab": {
     "base_uri": "https://localhost:8080/"
    },
    "id": "ANzjXQl5ncsM",
    "outputId": "9a405f85-ba81-49e0-8368-8ee8d2a38799"
   },
   "execution_count": 384,
   "outputs": [
    {
     "name": "stdout",
     "output_type": "stream",
     "text": [
      "   Year   Month   Day       Extent      Missing  \\\n",
      "0  YYYY      MM    DD   10^6 sq km   10^6 sq km   \n",
      "1  1978      10    26       10.231        0.000   \n",
      "2  1978      10    28       10.420        0.000   \n",
      "3  1978      10    30       10.557        0.000   \n",
      "4  1978      11    01       10.670        0.000   \n",
      "\n",
      "                                         Source Data  \n",
      "0   Source data product web sites: http://nsidc.o...  \n",
      "1   ['/ecs/DP1/PM/NSIDC-0051.001/1978.10.26/nt_19...  \n",
      "2   ['/ecs/DP1/PM/NSIDC-0051.001/1978.10.28/nt_19...  \n",
      "3   ['/ecs/DP1/PM/NSIDC-0051.001/1978.10.30/nt_19...  \n",
      "4   ['/ecs/DP1/PM/NSIDC-0051.001/1978.11.01/nt_19...  \n",
      "\n",
      "\n",
      "<class 'pandas.core.frame.DataFrame'>\n",
      "RangeIndex: 14175 entries, 0 to 14174\n",
      "Data columns (total 6 columns):\n",
      " #   Column        Non-Null Count  Dtype \n",
      "---  ------        --------------  ----- \n",
      " 0   Year          14175 non-null  object\n",
      " 1    Month        14175 non-null  object\n",
      " 2    Day          14175 non-null  object\n",
      " 3        Extent   14175 non-null  object\n",
      " 4       Missing   14175 non-null  object\n",
      " 5    Source Data  14175 non-null  object\n",
      "dtypes: object(6)\n",
      "memory usage: 664.6+ KB\n",
      "None\n",
      "\n",
      "\n",
      "Index(['Year', ' Month', ' Day', '     Extent', '    Missing', ' Source Data'], dtype='object')\n"
     ]
    }
   ]
  },
  {
   "cell_type": "markdown",
   "metadata": {
    "id": "FbE9hbNTmU6u"
   },
   "source": [
    "Find out what years are represented in this dataset."
   ]
  },
  {
   "cell_type": "code",
   "source": [
    "df.drop(0, inplace=True)\n",
    "years = set(df['Year'])\n",
    "years"
   ],
   "metadata": {
    "id": "hiHQ1gQKndH1"
   },
   "execution_count": 385,
   "outputs": [
    {
     "data": {
      "text/plain": "{'1978',\n '1979',\n '1980',\n '1981',\n '1982',\n '1983',\n '1984',\n '1985',\n '1986',\n '1987',\n '1988',\n '1989',\n '1990',\n '1991',\n '1992',\n '1993',\n '1994',\n '1995',\n '1996',\n '1997',\n '1998',\n '1999',\n '2000',\n '2001',\n '2002',\n '2003',\n '2004',\n '2005',\n '2006',\n '2007',\n '2008',\n '2009',\n '2010',\n '2011',\n '2012',\n '2013',\n '2014',\n '2015',\n '2016',\n '2017',\n '2018',\n '2019',\n '2020',\n '2021',\n '2022'}"
     },
     "execution_count": 385,
     "metadata": {},
     "output_type": "execute_result"
    }
   ]
  },
  {
   "cell_type": "markdown",
   "metadata": {
    "id": "P7Z3bW1HmU6v"
   },
   "source": [
    "Check the labels on the columns and if they have spaces in them, remove the spaces"
   ]
  },
  {
   "cell_type": "code",
   "source": [
    "df.columns = df.columns.str.replace(' ', \"\")\n",
    "df.columns"
   ],
   "metadata": {
    "id": "o-Fi7A57ndhx"
   },
   "execution_count": 386,
   "outputs": [
    {
     "data": {
      "text/plain": "Index(['Year', 'Month', 'Day', 'Extent', 'Missing', 'SourceData'], dtype='object')"
     },
     "execution_count": 386,
     "metadata": {},
     "output_type": "execute_result"
    }
   ]
  },
  {
   "cell_type": "markdown",
   "metadata": {
    "id": "6YMXAX78mU6w"
   },
   "source": [
    "Drop the Missing and Source Data columns from the data, leaving the other columns."
   ]
  },
  {
   "cell_type": "code",
   "source": [
    "df.drop(\"Missing\", axis=1, inplace=True)\n",
    "df.drop(\"SourceData\", axis=1, inplace=True)"
   ],
   "metadata": {
    "id": "l99StZBtneNO"
   },
   "execution_count": 387,
   "outputs": []
  },
  {
   "cell_type": "code",
   "execution_count": 388,
   "outputs": [
    {
     "data": {
      "text/plain": "         Year  Month   Day  Extent\n1      1978.0   10.0  26.0  10.231\n2      1978.0   10.0  28.0  10.420\n3      1978.0   10.0  30.0  10.557\n4      1978.0   11.0   1.0  10.670\n5      1978.0   11.0   3.0  10.777\n...       ...    ...   ...     ...\n14170  2022.0    2.0  19.0  14.712\n14171  2022.0    2.0  20.0  14.729\n14172  2022.0    2.0  21.0  14.933\n14173  2022.0    2.0  22.0  14.923\n14174  2022.0    2.0  23.0  14.882\n\n[14174 rows x 4 columns]",
      "text/html": "<div>\n<style scoped>\n    .dataframe tbody tr th:only-of-type {\n        vertical-align: middle;\n    }\n\n    .dataframe tbody tr th {\n        vertical-align: top;\n    }\n\n    .dataframe thead th {\n        text-align: right;\n    }\n</style>\n<table border=\"1\" class=\"dataframe\">\n  <thead>\n    <tr style=\"text-align: right;\">\n      <th></th>\n      <th>Year</th>\n      <th>Month</th>\n      <th>Day</th>\n      <th>Extent</th>\n    </tr>\n  </thead>\n  <tbody>\n    <tr>\n      <th>1</th>\n      <td>1978.0</td>\n      <td>10.0</td>\n      <td>26.0</td>\n      <td>10.231</td>\n    </tr>\n    <tr>\n      <th>2</th>\n      <td>1978.0</td>\n      <td>10.0</td>\n      <td>28.0</td>\n      <td>10.420</td>\n    </tr>\n    <tr>\n      <th>3</th>\n      <td>1978.0</td>\n      <td>10.0</td>\n      <td>30.0</td>\n      <td>10.557</td>\n    </tr>\n    <tr>\n      <th>4</th>\n      <td>1978.0</td>\n      <td>11.0</td>\n      <td>1.0</td>\n      <td>10.670</td>\n    </tr>\n    <tr>\n      <th>5</th>\n      <td>1978.0</td>\n      <td>11.0</td>\n      <td>3.0</td>\n      <td>10.777</td>\n    </tr>\n    <tr>\n      <th>...</th>\n      <td>...</td>\n      <td>...</td>\n      <td>...</td>\n      <td>...</td>\n    </tr>\n    <tr>\n      <th>14170</th>\n      <td>2022.0</td>\n      <td>2.0</td>\n      <td>19.0</td>\n      <td>14.712</td>\n    </tr>\n    <tr>\n      <th>14171</th>\n      <td>2022.0</td>\n      <td>2.0</td>\n      <td>20.0</td>\n      <td>14.729</td>\n    </tr>\n    <tr>\n      <th>14172</th>\n      <td>2022.0</td>\n      <td>2.0</td>\n      <td>21.0</td>\n      <td>14.933</td>\n    </tr>\n    <tr>\n      <th>14173</th>\n      <td>2022.0</td>\n      <td>2.0</td>\n      <td>22.0</td>\n      <td>14.923</td>\n    </tr>\n    <tr>\n      <th>14174</th>\n      <td>2022.0</td>\n      <td>2.0</td>\n      <td>23.0</td>\n      <td>14.882</td>\n    </tr>\n  </tbody>\n</table>\n<p>14174 rows × 4 columns</p>\n</div>"
     },
     "execution_count": 388,
     "metadata": {},
     "output_type": "execute_result"
    }
   ],
   "source": [
    "df.columns\n",
    "df=df.astype(float)\n",
    "years = set(df['Year'])\n",
    "df"
   ],
   "metadata": {
    "collapsed": false,
    "pycharm": {
     "name": "#%%\n"
    }
   }
  },
  {
   "cell_type": "code",
   "execution_count": 389,
   "outputs": [
    {
     "data": {
      "text/plain": "Index(['Year', 'Month', 'Day', 'Extent', 'Date'], dtype='object')"
     },
     "execution_count": 389,
     "metadata": {},
     "output_type": "execute_result"
    }
   ],
   "source": [
    "df[\"Date\"] = [dt.date(int(Year),int(Month),int(Day)) for Year,Month,Day in zip(df[\"Year\"],df[\"Month\"],df[\"Day\"])]\n",
    "df.columns"
   ],
   "metadata": {
    "collapsed": false,
    "pycharm": {
     "name": "#%%\n"
    }
   }
  },
  {
   "cell_type": "markdown",
   "metadata": {
    "id": "t6lwiYSJmU61"
   },
   "source": [
    "Build a subset of the data with only rows from 2021"
   ]
  },
  {
   "cell_type": "code",
   "source": [
    "dfNow = df[df[\"Year\"]==2021]\n",
    "dfNow.columns"
   ],
   "metadata": {
    "id": "G0piMuPYnenh"
   },
   "execution_count": 390,
   "outputs": [
    {
     "data": {
      "text/plain": "Index(['Year', 'Month', 'Day', 'Extent', 'Date'], dtype='object')"
     },
     "execution_count": 390,
     "metadata": {},
     "output_type": "execute_result"
    }
   ]
  },
  {
   "cell_type": "markdown",
   "metadata": {
    "id": "gxovK5NxmU62"
   },
   "source": [
    "Plot the Extent column for this subset"
   ]
  },
  {
   "cell_type": "code",
   "source": [
    "plt.rc('figure', figsize=(10, 10))\n",
    "plt.scatter(dfNow.Date, dfNow.Extent)"
   ],
   "metadata": {
    "id": "67O6-3vAnfd8"
   },
   "execution_count": 391,
   "outputs": [
    {
     "data": {
      "text/plain": "<matplotlib.collections.PathCollection at 0x23403a1b490>"
     },
     "execution_count": 391,
     "metadata": {},
     "output_type": "execute_result"
    },
    {
     "data": {
      "text/plain": "<Figure size 720x720 with 1 Axes>",
      "image/png": "[encoded data removed]"
     },
     "metadata": {
      "needs_background": "light"
     },
     "output_type": "display_data"
    }
   ]
  },
  {
   "cell_type": "markdown",
   "metadata": {
    "id": "ihVHApBlmU62"
   },
   "source": [
    "It turns out that the minimum extent is always sometime in September.  Build a version of the dataset with ontly the month of September for each year."
   ]
  },
  {
   "cell_type": "code",
   "source": [
    "dfSep = df[df.Month == 10]\n",
    "dfSep"
   ],
   "metadata": {
    "id": "8S81ONKmngSD"
   },
   "execution_count": 392,
   "outputs": [
    {
     "data": {
      "text/plain": "         Year  Month   Day  Extent        Date\n1      1978.0   10.0  26.0  10.231  1978-10-26\n2      1978.0   10.0  28.0  10.420  1978-10-28\n3      1978.0   10.0  30.0  10.557  1978-10-30\n171    1979.0   10.0   1.0   7.404  1979-10-01\n172    1979.0   10.0   3.0   7.534  1979-10-03\n...       ...    ...   ...     ...         ...\n14055  2021.0   10.0  27.0   8.077  2021-10-27\n14056  2021.0   10.0  28.0   8.132  2021-10-28\n14057  2021.0   10.0  29.0   8.220  2021-10-29\n14058  2021.0   10.0  30.0   8.353  2021-10-30\n14059  2021.0   10.0  31.0   8.431  2021-10-31\n\n[1212 rows x 5 columns]",
      "text/html": "<div>\n<style scoped>\n    .dataframe tbody tr th:only-of-type {\n        vertical-align: middle;\n    }\n\n    .dataframe tbody tr th {\n        vertical-align: top;\n    }\n\n    .dataframe thead th {\n        text-align: right;\n    }\n</style>\n<table border=\"1\" class=\"dataframe\">\n  <thead>\n    <tr style=\"text-align: right;\">\n      <th></th>\n      <th>Year</th>\n      <th>Month</th>\n      <th>Day</th>\n      <th>Extent</th>\n      <th>Date</th>\n    </tr>\n  </thead>\n  <tbody>\n    <tr>\n      <th>1</th>\n      <td>1978.0</td>\n      <td>10.0</td>\n      <td>26.0</td>\n      <td>10.231</td>\n      <td>1978-10-26</td>\n    </tr>\n    <tr>\n      <th>2</th>\n      <td>1978.0</td>\n      <td>10.0</td>\n      <td>28.0</td>\n      <td>10.420</td>\n      <td>1978-10-28</td>\n    </tr>\n    <tr>\n      <th>3</th>\n      <td>1978.0</td>\n      <td>10.0</td>\n      <td>30.0</td>\n      <td>10.557</td>\n      <td>1978-10-30</td>\n    </tr>\n    <tr>\n      <th>171</th>\n      <td>1979.0</td>\n      <td>10.0</td>\n      <td>1.0</td>\n      <td>7.404</td>\n      <td>1979-10-01</td>\n    </tr>\n    <tr>\n      <th>172</th>\n      <td>1979.0</td>\n      <td>10.0</td>\n      <td>3.0</td>\n      <td>7.534</td>\n      <td>1979-10-03</td>\n    </tr>\n    <tr>\n      <th>...</th>\n      <td>...</td>\n      <td>...</td>\n      <td>...</td>\n      <td>...</td>\n      <td>...</td>\n    </tr>\n    <tr>\n      <th>14055</th>\n      <td>2021.0</td>\n      <td>10.0</td>\n      <td>27.0</td>\n      <td>8.077</td>\n      <td>2021-10-27</td>\n    </tr>\n    <tr>\n      <th>14056</th>\n      <td>2021.0</td>\n      <td>10.0</td>\n      <td>28.0</td>\n      <td>8.132</td>\n      <td>2021-10-28</td>\n    </tr>\n    <tr>\n      <th>14057</th>\n      <td>2021.0</td>\n      <td>10.0</td>\n      <td>29.0</td>\n      <td>8.220</td>\n      <td>2021-10-29</td>\n    </tr>\n    <tr>\n      <th>14058</th>\n      <td>2021.0</td>\n      <td>10.0</td>\n      <td>30.0</td>\n      <td>8.353</td>\n      <td>2021-10-30</td>\n    </tr>\n    <tr>\n      <th>14059</th>\n      <td>2021.0</td>\n      <td>10.0</td>\n      <td>31.0</td>\n      <td>8.431</td>\n      <td>2021-10-31</td>\n    </tr>\n  </tbody>\n</table>\n<p>1212 rows × 5 columns</p>\n</div>"
     },
     "execution_count": 392,
     "metadata": {},
     "output_type": "execute_result"
    }
   ]
  },
  {
   "cell_type": "code",
   "execution_count": 393,
   "outputs": [
    {
     "data": {
      "text/plain": "         Year  Month   Day  Extent        Date\n14029  2021.0   10.0   1.0   5.371  2021-10-01\n14030  2021.0   10.0   2.0   5.416  2021-10-02\n14031  2021.0   10.0   3.0   5.494  2021-10-03\n14032  2021.0   10.0   4.0   5.545  2021-10-04\n14033  2021.0   10.0   5.0   5.553  2021-10-05\n14034  2021.0   10.0   6.0   5.641  2021-10-06\n14035  2021.0   10.0   7.0   5.719  2021-10-07\n14036  2021.0   10.0   8.0   5.875  2021-10-08\n14037  2021.0   10.0   9.0   5.895  2021-10-09\n14038  2021.0   10.0  10.0   5.966  2021-10-10\n14039  2021.0   10.0  11.0   6.080  2021-10-11\n14040  2021.0   10.0  12.0   6.200  2021-10-12\n14041  2021.0   10.0  13.0   6.301  2021-10-13\n14042  2021.0   10.0  14.0   6.325  2021-10-14\n14043  2021.0   10.0  15.0   6.404  2021-10-15\n14044  2021.0   10.0  16.0   6.596  2021-10-16\n14045  2021.0   10.0  17.0   6.834  2021-10-17\n14046  2021.0   10.0  18.0   7.018  2021-10-18\n14047  2021.0   10.0  19.0   7.062  2021-10-19\n14048  2021.0   10.0  20.0   7.173  2021-10-20\n14049  2021.0   10.0  21.0   7.309  2021-10-21\n14050  2021.0   10.0  22.0   7.518  2021-10-22\n14051  2021.0   10.0  23.0   7.671  2021-10-23\n14052  2021.0   10.0  24.0   7.791  2021-10-24\n14053  2021.0   10.0  25.0   7.903  2021-10-25\n14054  2021.0   10.0  26.0   8.005  2021-10-26\n14055  2021.0   10.0  27.0   8.077  2021-10-27\n14056  2021.0   10.0  28.0   8.132  2021-10-28\n14057  2021.0   10.0  29.0   8.220  2021-10-29\n14058  2021.0   10.0  30.0   8.353  2021-10-30\n14059  2021.0   10.0  31.0   8.431  2021-10-31",
      "text/html": "<div>\n<style scoped>\n    .dataframe tbody tr th:only-of-type {\n        vertical-align: middle;\n    }\n\n    .dataframe tbody tr th {\n        vertical-align: top;\n    }\n\n    .dataframe thead th {\n        text-align: right;\n    }\n</style>\n<table border=\"1\" class=\"dataframe\">\n  <thead>\n    <tr style=\"text-align: right;\">\n      <th></th>\n      <th>Year</th>\n      <th>Month</th>\n      <th>Day</th>\n      <th>Extent</th>\n      <th>Date</th>\n    </tr>\n  </thead>\n  <tbody>\n    <tr>\n      <th>14029</th>\n      <td>2021.0</td>\n      <td>10.0</td>\n      <td>1.0</td>\n      <td>5.371</td>\n      <td>2021-10-01</td>\n    </tr>\n    <tr>\n      <th>14030</th>\n      <td>2021.0</td>\n      <td>10.0</td>\n      <td>2.0</td>\n      <td>5.416</td>\n      <td>2021-10-02</td>\n    </tr>\n    <tr>\n      <th>14031</th>\n      <td>2021.0</td>\n      <td>10.0</td>\n      <td>3.0</td>\n      <td>5.494</td>\n      <td>2021-10-03</td>\n    </tr>\n    <tr>\n      <th>14032</th>\n      <td>2021.0</td>\n      <td>10.0</td>\n      <td>4.0</td>\n      <td>5.545</td>\n      <td>2021-10-04</td>\n    </tr>\n    <tr>\n      <th>14033</th>\n      <td>2021.0</td>\n      <td>10.0</td>\n      <td>5.0</td>\n      <td>5.553</td>\n      <td>2021-10-05</td>\n    </tr>\n    <tr>\n      <th>14034</th>\n      <td>2021.0</td>\n      <td>10.0</td>\n      <td>6.0</td>\n      <td>5.641</td>\n      <td>2021-10-06</td>\n    </tr>\n    <tr>\n      <th>14035</th>\n      <td>2021.0</td>\n      <td>10.0</td>\n      <td>7.0</td>\n      <td>5.719</td>\n      <td>2021-10-07</td>\n    </tr>\n    <tr>\n      <th>14036</th>\n      <td>2021.0</td>\n      <td>10.0</td>\n      <td>8.0</td>\n      <td>5.875</td>\n      <td>2021-10-08</td>\n    </tr>\n    <tr>\n      <th>14037</th>\n      <td>2021.0</td>\n      <td>10.0</td>\n      <td>9.0</td>\n      <td>5.895</td>\n      <td>2021-10-09</td>\n    </tr>\n    <tr>\n      <th>14038</th>\n      <td>2021.0</td>\n      <td>10.0</td>\n      <td>10.0</td>\n      <td>5.966</td>\n      <td>2021-10-10</td>\n    </tr>\n    <tr>\n      <th>14039</th>\n      <td>2021.0</td>\n      <td>10.0</td>\n      <td>11.0</td>\n      <td>6.080</td>\n      <td>2021-10-11</td>\n    </tr>\n    <tr>\n      <th>14040</th>\n      <td>2021.0</td>\n      <td>10.0</td>\n      <td>12.0</td>\n      <td>6.200</td>\n      <td>2021-10-12</td>\n    </tr>\n    <tr>\n      <th>14041</th>\n      <td>2021.0</td>\n      <td>10.0</td>\n      <td>13.0</td>\n      <td>6.301</td>\n      <td>2021-10-13</td>\n    </tr>\n    <tr>\n      <th>14042</th>\n      <td>2021.0</td>\n      <td>10.0</td>\n      <td>14.0</td>\n      <td>6.325</td>\n      <td>2021-10-14</td>\n    </tr>\n    <tr>\n      <th>14043</th>\n      <td>2021.0</td>\n      <td>10.0</td>\n      <td>15.0</td>\n      <td>6.404</td>\n      <td>2021-10-15</td>\n    </tr>\n    <tr>\n      <th>14044</th>\n      <td>2021.0</td>\n      <td>10.0</td>\n      <td>16.0</td>\n      <td>6.596</td>\n      <td>2021-10-16</td>\n    </tr>\n    <tr>\n      <th>14045</th>\n      <td>2021.0</td>\n      <td>10.0</td>\n      <td>17.0</td>\n      <td>6.834</td>\n      <td>2021-10-17</td>\n    </tr>\n    <tr>\n      <th>14046</th>\n      <td>2021.0</td>\n      <td>10.0</td>\n      <td>18.0</td>\n      <td>7.018</td>\n      <td>2021-10-18</td>\n    </tr>\n    <tr>\n      <th>14047</th>\n      <td>2021.0</td>\n      <td>10.0</td>\n      <td>19.0</td>\n      <td>7.062</td>\n      <td>2021-10-19</td>\n    </tr>\n    <tr>\n      <th>14048</th>\n      <td>2021.0</td>\n      <td>10.0</td>\n      <td>20.0</td>\n      <td>7.173</td>\n      <td>2021-10-20</td>\n    </tr>\n    <tr>\n      <th>14049</th>\n      <td>2021.0</td>\n      <td>10.0</td>\n      <td>21.0</td>\n      <td>7.309</td>\n      <td>2021-10-21</td>\n    </tr>\n    <tr>\n      <th>14050</th>\n      <td>2021.0</td>\n      <td>10.0</td>\n      <td>22.0</td>\n      <td>7.518</td>\n      <td>2021-10-22</td>\n    </tr>\n    <tr>\n      <th>14051</th>\n      <td>2021.0</td>\n      <td>10.0</td>\n      <td>23.0</td>\n      <td>7.671</td>\n      <td>2021-10-23</td>\n    </tr>\n    <tr>\n      <th>14052</th>\n      <td>2021.0</td>\n      <td>10.0</td>\n      <td>24.0</td>\n      <td>7.791</td>\n      <td>2021-10-24</td>\n    </tr>\n    <tr>\n      <th>14053</th>\n      <td>2021.0</td>\n      <td>10.0</td>\n      <td>25.0</td>\n      <td>7.903</td>\n      <td>2021-10-25</td>\n    </tr>\n    <tr>\n      <th>14054</th>\n      <td>2021.0</td>\n      <td>10.0</td>\n      <td>26.0</td>\n      <td>8.005</td>\n      <td>2021-10-26</td>\n    </tr>\n    <tr>\n      <th>14055</th>\n      <td>2021.0</td>\n      <td>10.0</td>\n      <td>27.0</td>\n      <td>8.077</td>\n      <td>2021-10-27</td>\n    </tr>\n    <tr>\n      <th>14056</th>\n      <td>2021.0</td>\n      <td>10.0</td>\n      <td>28.0</td>\n      <td>8.132</td>\n      <td>2021-10-28</td>\n    </tr>\n    <tr>\n      <th>14057</th>\n      <td>2021.0</td>\n      <td>10.0</td>\n      <td>29.0</td>\n      <td>8.220</td>\n      <td>2021-10-29</td>\n    </tr>\n    <tr>\n      <th>14058</th>\n      <td>2021.0</td>\n      <td>10.0</td>\n      <td>30.0</td>\n      <td>8.353</td>\n      <td>2021-10-30</td>\n    </tr>\n    <tr>\n      <th>14059</th>\n      <td>2021.0</td>\n      <td>10.0</td>\n      <td>31.0</td>\n      <td>8.431</td>\n      <td>2021-10-31</td>\n    </tr>\n  </tbody>\n</table>\n</div>"
     },
     "execution_count": 393,
     "metadata": {},
     "output_type": "execute_result"
    }
   ],
   "source": [
    "dfnSep = dfSep[dfSep[\"Year\"]==2021]\n",
    "dfnSep"
   ],
   "metadata": {
    "collapsed": false,
    "pycharm": {
     "name": "#%%\n"
    }
   }
  },
  {
   "cell_type": "markdown",
   "metadata": {
    "id": "jw9o009omU62"
   },
   "source": [
    "Plot just the extent for September in 2021.  You should see that the minimum was on the 13th.  "
   ]
  },
  {
   "cell_type": "code",
   "source": [
    "plt.rc('figure', figsize=(10, 10))\n",
    "plt.scatter(dfnSep.Date,dfnSep.Extent)"
   ],
   "metadata": {
    "id": "9rCaF9yMnhA8"
   },
   "execution_count": 394,
   "outputs": [
    {
     "data": {
      "text/plain": "<matplotlib.collections.PathCollection at 0x234039a34c0>"
     },
     "execution_count": 394,
     "metadata": {},
     "output_type": "execute_result"
    },
    {
     "data": {
      "text/plain": "<Figure size 720x720 with 1 Axes>",
      "image/png": "[encoded data removed]"
     },
     "metadata": {
      "needs_background": "light"
     },
     "output_type": "display_data"
    }
   ]
  },
  {
   "cell_type": "markdown",
   "metadata": {
    "id": "5pCAROqHmU63"
   },
   "source": [
    "For each year, find the day (number starting with 1) of the minimum value."
   ]
  },
  {
   "cell_type": "code",
   "source": [
    "dfMinExt = pd.DataFrame(columns=df.columns)\n",
    "i = -1\n",
    "for Year in years:\n",
    "    i += 1\n",
    "    dfTSep = dfSep[dfSep[\"Year\"]==Year]\n",
    "    if dfTSep.empty:\n",
    "        continue\n",
    "    myMin = np.argmin(dfTSep.Extent)\n",
    "    dfMinExt.loc[i] = dfTSep.iloc[myMin]\n",
    "dfMinExt"
   ],
   "metadata": {
    "id": "rOCPd4oxnhhP",
    "pycharm": {
     "name": "#%%\n"
    }
   },
   "execution_count": 395,
   "outputs": [
    {
     "data": {
      "text/plain": "      Year Month   Day  Extent        Date\n0   1978.0  10.0  26.0  10.231  1978-10-26\n1   1979.0  10.0   1.0   7.404  1979-10-01\n2   1980.0  10.0   3.0   8.213  1980-10-03\n3   1981.0  10.0   2.0   7.987  1981-10-02\n4   1982.0  10.0   1.0   7.768  1982-10-01\n5   1983.0  10.0   2.0   8.143  1983-10-02\n6   1984.0  10.0   2.0   7.745  1984-10-02\n7   1985.0  10.0   1.0   7.365  1985-10-01\n8   1986.0  10.0   2.0   8.338  1986-10-02\n9   1987.0  10.0   1.0   8.039  1987-10-01\n10  1988.0  10.0   1.0   8.069  1988-10-01\n11  1989.0  10.0   1.0   7.453  1989-10-01\n12  1990.0  10.0   1.0   6.626  1990-10-01\n13  1991.0  10.0   1.0    6.85  1991-10-01\n14  1992.0  10.0   1.0   8.359  1992-10-01\n15  1993.0  10.0   1.0   7.251  1993-10-01\n16  1994.0  10.0   1.0   7.894  1994-10-01\n17  1995.0  10.0   1.0   6.163  1995-10-01\n18  1996.0  10.0   1.0   8.279  1996-10-01\n19  1997.0  10.0   1.0   7.066  1997-10-01\n20  1998.0  10.0   1.0   7.248  1998-10-01\n21  1999.0  10.0   1.0   7.083  1999-10-01\n22  2000.0  10.0   1.0   6.802  2000-10-01\n23  2001.0  10.0   1.0   7.261  2001-10-01\n24  2002.0  10.0   1.0   6.543  2002-10-01\n25  2003.0  10.0   1.0   6.441  2003-10-01\n26  2004.0  10.0   1.0   6.621  2004-10-01\n27  2005.0  10.0   1.0   5.836  2005-10-01\n28  2006.0  10.0   1.0   5.984  2006-10-01\n29  2007.0  10.0   1.0   4.614  2007-10-01\n30  2008.0  10.0   1.0   5.254  2008-10-01\n31  2009.0  10.0   1.0   5.682  2009-10-01\n32  2010.0  10.0   1.0   5.451  2010-10-01\n33  2011.0  10.0   1.0   5.162  2011-10-01\n34  2012.0  10.0   1.0   4.112  2012-10-01\n35  2013.0  10.0   1.0   5.871  2013-10-01\n36  2014.0  10.0   1.0   5.683  2014-10-01\n37  2015.0  10.0   3.0   5.289  2015-10-03\n38  2016.0  10.0   1.0   5.288  2016-10-01\n39  2017.0  10.0   1.0   5.376  2017-10-01\n40  2018.0  10.0   2.0   5.038  2018-10-02\n41  2019.0  10.0   1.0   4.828  2019-10-01\n42  2020.0  10.0   2.0   4.479  2020-10-02\n43  2021.0  10.0   1.0   5.371  2021-10-01",
      "text/html": "<div>\n<style scoped>\n    .dataframe tbody tr th:only-of-type {\n        vertical-align: middle;\n    }\n\n    .dataframe tbody tr th {\n        vertical-align: top;\n    }\n\n    .dataframe thead th {\n        text-align: right;\n    }\n</style>\n<table border=\"1\" class=\"dataframe\">\n  <thead>\n    <tr style=\"text-align: right;\">\n      <th></th>\n      <th>Year</th>\n      <th>Month</th>\n      <th>Day</th>\n      <th>Extent</th>\n      <th>Date</th>\n    </tr>\n  </thead>\n  <tbody>\n    <tr>\n      <th>0</th>\n      <td>1978.0</td>\n      <td>10.0</td>\n      <td>26.0</td>\n      <td>10.231</td>\n      <td>1978-10-26</td>\n    </tr>\n    <tr>\n      <th>1</th>\n      <td>1979.0</td>\n      <td>10.0</td>\n      <td>1.0</td>\n      <td>7.404</td>\n      <td>1979-10-01</td>\n    </tr>\n    <tr>\n      <th>2</th>\n      <td>1980.0</td>\n      <td>10.0</td>\n      <td>3.0</td>\n      <td>8.213</td>\n      <td>1980-10-03</td>\n    </tr>\n    <tr>\n      <th>3</th>\n      <td>1981.0</td>\n      <td>10.0</td>\n      <td>2.0</td>\n      <td>7.987</td>\n      <td>1981-10-02</td>\n    </tr>\n    <tr>\n      <th>4</th>\n      <td>1982.0</td>\n      <td>10.0</td>\n      <td>1.0</td>\n      <td>7.768</td>\n      <td>1982-10-01</td>\n    </tr>\n    <tr>\n      <th>5</th>\n      <td>1983.0</td>\n      <td>10.0</td>\n      <td>2.0</td>\n      <td>8.143</td>\n      <td>1983-10-02</td>\n    </tr>\n    <tr>\n      <th>6</th>\n      <td>1984.0</td>\n      <td>10.0</td>\n      <td>2.0</td>\n      <td>7.745</td>\n      <td>1984-10-02</td>\n    </tr>\n    <tr>\n      <th>7</th>\n      <td>1985.0</td>\n      <td>10.0</td>\n      <td>1.0</td>\n      <td>7.365</td>\n      <td>1985-10-01</td>\n    </tr>\n    <tr>\n      <th>8</th>\n      <td>1986.0</td>\n      <td>10.0</td>\n      <td>2.0</td>\n      <td>8.338</td>\n      <td>1986-10-02</td>\n    </tr>\n    <tr>\n      <th>9</th>\n      <td>1987.0</td>\n      <td>10.0</td>\n      <td>1.0</td>\n      <td>8.039</td>\n      <td>1987-10-01</td>\n    </tr>\n    <tr>\n      <th>10</th>\n      <td>1988.0</td>\n      <td>10.0</td>\n      <td>1.0</td>\n      <td>8.069</td>\n      <td>1988-10-01</td>\n    </tr>\n    <tr>\n      <th>11</th>\n      <td>1989.0</td>\n      <td>10.0</td>\n      <td>1.0</td>\n      <td>7.453</td>\n      <td>1989-10-01</td>\n    </tr>\n    <tr>\n      <th>12</th>\n      <td>1990.0</td>\n      <td>10.0</td>\n      <td>1.0</td>\n      <td>6.626</td>\n      <td>1990-10-01</td>\n    </tr>\n    <tr>\n      <th>13</th>\n      <td>1991.0</td>\n      <td>10.0</td>\n      <td>1.0</td>\n      <td>6.85</td>\n      <td>1991-10-01</td>\n    </tr>\n    <tr>\n      <th>14</th>\n      <td>1992.0</td>\n      <td>10.0</td>\n      <td>1.0</td>\n      <td>8.359</td>\n      <td>1992-10-01</td>\n    </tr>\n    <tr>\n      <th>15</th>\n      <td>1993.0</td>\n      <td>10.0</td>\n      <td>1.0</td>\n      <td>7.251</td>\n      <td>1993-10-01</td>\n    </tr>\n    <tr>\n      <th>16</th>\n      <td>1994.0</td>\n      <td>10.0</td>\n      <td>1.0</td>\n      <td>7.894</td>\n      <td>1994-10-01</td>\n    </tr>\n    <tr>\n      <th>17</th>\n      <td>1995.0</td>\n      <td>10.0</td>\n      <td>1.0</td>\n      <td>6.163</td>\n      <td>1995-10-01</td>\n    </tr>\n    <tr>\n      <th>18</th>\n      <td>1996.0</td>\n      <td>10.0</td>\n      <td>1.0</td>\n      <td>8.279</td>\n      <td>1996-10-01</td>\n    </tr>\n    <tr>\n      <th>19</th>\n      <td>1997.0</td>\n      <td>10.0</td>\n      <td>1.0</td>\n      <td>7.066</td>\n      <td>1997-10-01</td>\n    </tr>\n    <tr>\n      <th>20</th>\n      <td>1998.0</td>\n      <td>10.0</td>\n      <td>1.0</td>\n      <td>7.248</td>\n      <td>1998-10-01</td>\n    </tr>\n    <tr>\n      <th>21</th>\n      <td>1999.0</td>\n      <td>10.0</td>\n      <td>1.0</td>\n      <td>7.083</td>\n      <td>1999-10-01</td>\n    </tr>\n    <tr>\n      <th>22</th>\n      <td>2000.0</td>\n      <td>10.0</td>\n      <td>1.0</td>\n      <td>6.802</td>\n      <td>2000-10-01</td>\n    </tr>\n    <tr>\n      <th>23</th>\n      <td>2001.0</td>\n      <td>10.0</td>\n      <td>1.0</td>\n      <td>7.261</td>\n      <td>2001-10-01</td>\n    </tr>\n    <tr>\n      <th>24</th>\n      <td>2002.0</td>\n      <td>10.0</td>\n      <td>1.0</td>\n      <td>6.543</td>\n      <td>2002-10-01</td>\n    </tr>\n    <tr>\n      <th>25</th>\n      <td>2003.0</td>\n      <td>10.0</td>\n      <td>1.0</td>\n      <td>6.441</td>\n      <td>2003-10-01</td>\n    </tr>\n    <tr>\n      <th>26</th>\n      <td>2004.0</td>\n      <td>10.0</td>\n      <td>1.0</td>\n      <td>6.621</td>\n      <td>2004-10-01</td>\n    </tr>\n    <tr>\n      <th>27</th>\n      <td>2005.0</td>\n      <td>10.0</td>\n      <td>1.0</td>\n      <td>5.836</td>\n      <td>2005-10-01</td>\n    </tr>\n    <tr>\n      <th>28</th>\n      <td>2006.0</td>\n      <td>10.0</td>\n      <td>1.0</td>\n      <td>5.984</td>\n      <td>2006-10-01</td>\n    </tr>\n    <tr>\n      <th>29</th>\n      <td>2007.0</td>\n      <td>10.0</td>\n      <td>1.0</td>\n      <td>4.614</td>\n      <td>2007-10-01</td>\n    </tr>\n    <tr>\n      <th>30</th>\n      <td>2008.0</td>\n      <td>10.0</td>\n      <td>1.0</td>\n      <td>5.254</td>\n      <td>2008-10-01</td>\n    </tr>\n    <tr>\n      <th>31</th>\n      <td>2009.0</td>\n      <td>10.0</td>\n      <td>1.0</td>\n      <td>5.682</td>\n      <td>2009-10-01</td>\n    </tr>\n    <tr>\n      <th>32</th>\n      <td>2010.0</td>\n      <td>10.0</td>\n      <td>1.0</td>\n      <td>5.451</td>\n      <td>2010-10-01</td>\n    </tr>\n    <tr>\n      <th>33</th>\n      <td>2011.0</td>\n      <td>10.0</td>\n      <td>1.0</td>\n      <td>5.162</td>\n      <td>2011-10-01</td>\n    </tr>\n    <tr>\n      <th>34</th>\n      <td>2012.0</td>\n      <td>10.0</td>\n      <td>1.0</td>\n      <td>4.112</td>\n      <td>2012-10-01</td>\n    </tr>\n    <tr>\n      <th>35</th>\n      <td>2013.0</td>\n      <td>10.0</td>\n      <td>1.0</td>\n      <td>5.871</td>\n      <td>2013-10-01</td>\n    </tr>\n    <tr>\n      <th>36</th>\n      <td>2014.0</td>\n      <td>10.0</td>\n      <td>1.0</td>\n      <td>5.683</td>\n      <td>2014-10-01</td>\n    </tr>\n    <tr>\n      <th>37</th>\n      <td>2015.0</td>\n      <td>10.0</td>\n      <td>3.0</td>\n      <td>5.289</td>\n      <td>2015-10-03</td>\n    </tr>\n    <tr>\n      <th>38</th>\n      <td>2016.0</td>\n      <td>10.0</td>\n      <td>1.0</td>\n      <td>5.288</td>\n      <td>2016-10-01</td>\n    </tr>\n    <tr>\n      <th>39</th>\n      <td>2017.0</td>\n      <td>10.0</td>\n      <td>1.0</td>\n      <td>5.376</td>\n      <td>2017-10-01</td>\n    </tr>\n    <tr>\n      <th>40</th>\n      <td>2018.0</td>\n      <td>10.0</td>\n      <td>2.0</td>\n      <td>5.038</td>\n      <td>2018-10-02</td>\n    </tr>\n    <tr>\n      <th>41</th>\n      <td>2019.0</td>\n      <td>10.0</td>\n      <td>1.0</td>\n      <td>4.828</td>\n      <td>2019-10-01</td>\n    </tr>\n    <tr>\n      <th>42</th>\n      <td>2020.0</td>\n      <td>10.0</td>\n      <td>2.0</td>\n      <td>4.479</td>\n      <td>2020-10-02</td>\n    </tr>\n    <tr>\n      <th>43</th>\n      <td>2021.0</td>\n      <td>10.0</td>\n      <td>1.0</td>\n      <td>5.371</td>\n      <td>2021-10-01</td>\n    </tr>\n  </tbody>\n</table>\n</div>"
     },
     "execution_count": 395,
     "metadata": {},
     "output_type": "execute_result"
    }
   ]
  },
  {
   "cell_type": "markdown",
   "metadata": {
    "id": "QRuuwBh6mU63"
   },
   "source": [
    "Create a plot of the minimum day for all the years in the set (skip any year with no September data) "
   ]
  },
  {
   "cell_type": "code",
   "source": [
    "plt.scatter(dfMinExt.Year,dfMinExt.Extent)"
   ],
   "metadata": {
    "id": "MkjcqcU1nh1k"
   },
   "execution_count": 396,
   "outputs": [
    {
     "data": {
      "text/plain": "<matplotlib.collections.PathCollection at 0x23403a84c40>"
     },
     "execution_count": 396,
     "metadata": {},
     "output_type": "execute_result"
    },
    {
     "data": {
      "text/plain": "<Figure size 720x720 with 1 Axes>",
      "image/png": "[encoded data removed]"
     },
     "metadata": {
      "needs_background": "light"
     },
     "output_type": "display_data"
    }
   ]
  },
  {
   "cell_type": "markdown",
   "metadata": {
    "id": "gM4ilzHUmU63"
   },
   "source": [
    "Find out which month(s) have had maximum extent values.  "
   ]
  },
  {
   "cell_type": "code",
   "source": [
    "dfMaxExtm = pd.DataFrame(columns=df.columns)\n",
    "i = -1\n",
    "for Year in years:\n",
    "    i += 1\n",
    "    dfT = df[df[\"Year\"]==Year]\n",
    "    if dfT.empty:\n",
    "        continue\n",
    "    myMax = np.argmax(dfT.Extent)\n",
    "    dfMaxExtm.loc[i] = dfT.iloc[myMax]\n",
    "MaxMonths = set(dfMaxExtm['Month'])\n",
    "print(MaxMonths)\n",
    "print(dfMaxExtm['Month'].mode())\n",
    "dfMaxExtm\n"
   ],
   "metadata": {
    "id": "KJ-XCHWCniax"
   },
   "execution_count": 397,
   "outputs": [
    {
     "name": "stdout",
     "output_type": "stream",
     "text": [
      "{2.0, 3.0, 12.0}\n",
      "0    3.0\n",
      "Name: Month, dtype: object\n"
     ]
    },
    {
     "data": {
      "text/plain": "      Year Month   Day  Extent        Date\n0   1978.0  12.0  31.0  14.585  1978-12-31\n1   1979.0   3.0   1.0  16.635  1979-03-01\n2   1980.0   3.0   5.0  16.302  1980-03-05\n3   1981.0   3.0  14.0  15.801  1981-03-14\n4   1982.0   2.0  27.0  16.325  1982-02-27\n5   1983.0   3.0  14.0  16.412  1983-03-14\n6   1984.0   3.0  18.0  15.809  1984-03-18\n7   1985.0   3.0  17.0  16.163  1985-03-17\n8   1986.0   3.0  10.0  16.158  1986-03-10\n9   1987.0   2.0  21.0  16.293  1987-02-21\n10  1988.0   3.0  10.0  16.309  1988-03-10\n11  1989.0   3.0   6.0  15.766  1989-03-06\n12  1990.0   3.0  12.0  16.249  1990-03-12\n13  1991.0   2.0  25.0  15.647  1991-02-25\n14  1992.0   3.0  12.0  15.576  1992-03-12\n15  1993.0   3.0  13.0  16.048  1993-03-13\n16  1994.0   2.0  21.0   15.77  1994-02-21\n17  1995.0   3.0  31.0  15.384  1995-03-31\n18  1996.0   2.0  21.0  15.484  1996-02-21\n19  1997.0   3.0  20.0  15.684  1997-03-20\n20  1998.0   2.0  25.0   16.07  1998-02-25\n21  1999.0   3.0  30.0  15.627  1999-03-30\n22  2000.0   3.0   3.0  15.498  2000-03-03\n23  2001.0   3.0   4.0  15.742  2001-03-04\n24  2002.0   3.0   9.0  15.624  2002-03-09\n25  2003.0   3.0  20.0  15.629  2003-03-20\n26  2004.0   3.0  10.0    15.3  2004-03-10\n27  2005.0   3.0   9.0  14.993  2005-03-09\n28  2006.0   3.0  11.0  14.777  2006-03-11\n29  2007.0   3.0  10.0  14.842  2007-03-10\n30  2008.0   2.0  27.0  15.354  2008-02-27\n31  2009.0   3.0   2.0  15.195  2009-03-02\n32  2010.0   3.0  31.0  15.351  2010-03-31\n33  2011.0   3.0   7.0  14.704  2011-03-07\n34  2012.0   3.0  18.0  15.307  2012-03-18\n35  2013.0   3.0  14.0  15.196  2013-03-14\n36  2014.0   3.0  20.0  15.007  2014-03-20\n37  2015.0   2.0  22.0  14.554  2015-02-22\n38  2016.0   3.0  22.0  14.566  2016-03-22\n39  2017.0   3.0   5.0  14.449  2017-03-05\n40  2018.0   3.0  14.0  14.499  2018-03-14\n41  2019.0   3.0  11.0  14.896  2019-03-11\n42  2020.0   3.0   4.0  15.071  2020-03-04\n43  2021.0   3.0  11.0  14.866  2021-03-11\n44  2022.0   2.0  21.0  14.933  2022-02-21",
      "text/html": "<div>\n<style scoped>\n    .dataframe tbody tr th:only-of-type {\n        vertical-align: middle;\n    }\n\n    .dataframe tbody tr th {\n        vertical-align: top;\n    }\n\n    .dataframe thead th {\n        text-align: right;\n    }\n</style>\n<table border=\"1\" class=\"dataframe\">\n  <thead>\n    <tr style=\"text-align: right;\">\n      <th></th>\n      <th>Year</th>\n      <th>Month</th>\n      <th>Day</th>\n      <th>Extent</th>\n      <th>Date</th>\n    </tr>\n  </thead>\n  <tbody>\n    <tr>\n      <th>0</th>\n      <td>1978.0</td>\n      <td>12.0</td>\n      <td>31.0</td>\n      <td>14.585</td>\n      <td>1978-12-31</td>\n    </tr>\n    <tr>\n      <th>1</th>\n      <td>1979.0</td>\n      <td>3.0</td>\n      <td>1.0</td>\n      <td>16.635</td>\n      <td>1979-03-01</td>\n    </tr>\n    <tr>\n      <th>2</th>\n      <td>1980.0</td>\n      <td>3.0</td>\n      <td>5.0</td>\n      <td>16.302</td>\n      <td>1980-03-05</td>\n    </tr>\n    <tr>\n      <th>3</th>\n      <td>1981.0</td>\n      <td>3.0</td>\n      <td>14.0</td>\n      <td>15.801</td>\n      <td>1981-03-14</td>\n    </tr>\n    <tr>\n      <th>4</th>\n      <td>1982.0</td>\n      <td>2.0</td>\n      <td>27.0</td>\n      <td>16.325</td>\n      <td>1982-02-27</td>\n    </tr>\n    <tr>\n      <th>5</th>\n      <td>1983.0</td>\n      <td>3.0</td>\n      <td>14.0</td>\n      <td>16.412</td>\n      <td>1983-03-14</td>\n    </tr>\n    <tr>\n      <th>6</th>\n      <td>1984.0</td>\n      <td>3.0</td>\n      <td>18.0</td>\n      <td>15.809</td>\n      <td>1984-03-18</td>\n    </tr>\n    <tr>\n      <th>7</th>\n      <td>1985.0</td>\n      <td>3.0</td>\n      <td>17.0</td>\n      <td>16.163</td>\n      <td>1985-03-17</td>\n    </tr>\n    <tr>\n      <th>8</th>\n      <td>1986.0</td>\n      <td>3.0</td>\n      <td>10.0</td>\n      <td>16.158</td>\n      <td>1986-03-10</td>\n    </tr>\n    <tr>\n      <th>9</th>\n      <td>1987.0</td>\n      <td>2.0</td>\n      <td>21.0</td>\n      <td>16.293</td>\n      <td>1987-02-21</td>\n    </tr>\n    <tr>\n      <th>10</th>\n      <td>1988.0</td>\n      <td>3.0</td>\n      <td>10.0</td>\n      <td>16.309</td>\n      <td>1988-03-10</td>\n    </tr>\n    <tr>\n      <th>11</th>\n      <td>1989.0</td>\n      <td>3.0</td>\n      <td>6.0</td>\n      <td>15.766</td>\n      <td>1989-03-06</td>\n    </tr>\n    <tr>\n      <th>12</th>\n      <td>1990.0</td>\n      <td>3.0</td>\n      <td>12.0</td>\n      <td>16.249</td>\n      <td>1990-03-12</td>\n    </tr>\n    <tr>\n      <th>13</th>\n      <td>1991.0</td>\n      <td>2.0</td>\n      <td>25.0</td>\n      <td>15.647</td>\n      <td>1991-02-25</td>\n    </tr>\n    <tr>\n      <th>14</th>\n      <td>1992.0</td>\n      <td>3.0</td>\n      <td>12.0</td>\n      <td>15.576</td>\n      <td>1992-03-12</td>\n    </tr>\n    <tr>\n      <th>15</th>\n      <td>1993.0</td>\n      <td>3.0</td>\n      <td>13.0</td>\n      <td>16.048</td>\n      <td>1993-03-13</td>\n    </tr>\n    <tr>\n      <th>16</th>\n      <td>1994.0</td>\n      <td>2.0</td>\n      <td>21.0</td>\n      <td>15.77</td>\n      <td>1994-02-21</td>\n    </tr>\n    <tr>\n      <th>17</th>\n      <td>1995.0</td>\n      <td>3.0</td>\n      <td>31.0</td>\n      <td>15.384</td>\n      <td>1995-03-31</td>\n    </tr>\n    <tr>\n      <th>18</th>\n      <td>1996.0</td>\n      <td>2.0</td>\n      <td>21.0</td>\n      <td>15.484</td>\n      <td>1996-02-21</td>\n    </tr>\n    <tr>\n      <th>19</th>\n      <td>1997.0</td>\n      <td>3.0</td>\n      <td>20.0</td>\n      <td>15.684</td>\n      <td>1997-03-20</td>\n    </tr>\n    <tr>\n      <th>20</th>\n      <td>1998.0</td>\n      <td>2.0</td>\n      <td>25.0</td>\n      <td>16.07</td>\n      <td>1998-02-25</td>\n    </tr>\n    <tr>\n      <th>21</th>\n      <td>1999.0</td>\n      <td>3.0</td>\n      <td>30.0</td>\n      <td>15.627</td>\n      <td>1999-03-30</td>\n    </tr>\n    <tr>\n      <th>22</th>\n      <td>2000.0</td>\n      <td>3.0</td>\n      <td>3.0</td>\n      <td>15.498</td>\n      <td>2000-03-03</td>\n    </tr>\n    <tr>\n      <th>23</th>\n      <td>2001.0</td>\n      <td>3.0</td>\n      <td>4.0</td>\n      <td>15.742</td>\n      <td>2001-03-04</td>\n    </tr>\n    <tr>\n      <th>24</th>\n      <td>2002.0</td>\n      <td>3.0</td>\n      <td>9.0</td>\n      <td>15.624</td>\n      <td>2002-03-09</td>\n    </tr>\n    <tr>\n      <th>25</th>\n      <td>2003.0</td>\n      <td>3.0</td>\n      <td>20.0</td>\n      <td>15.629</td>\n      <td>2003-03-20</td>\n    </tr>\n    <tr>\n      <th>26</th>\n      <td>2004.0</td>\n      <td>3.0</td>\n      <td>10.0</td>\n      <td>15.3</td>\n      <td>2004-03-10</td>\n    </tr>\n    <tr>\n      <th>27</th>\n      <td>2005.0</td>\n      <td>3.0</td>\n      <td>9.0</td>\n      <td>14.993</td>\n      <td>2005-03-09</td>\n    </tr>\n    <tr>\n      <th>28</th>\n      <td>2006.0</td>\n      <td>3.0</td>\n      <td>11.0</td>\n      <td>14.777</td>\n      <td>2006-03-11</td>\n    </tr>\n    <tr>\n      <th>29</th>\n      <td>2007.0</td>\n      <td>3.0</td>\n      <td>10.0</td>\n      <td>14.842</td>\n      <td>2007-03-10</td>\n    </tr>\n    <tr>\n      <th>30</th>\n      <td>2008.0</td>\n      <td>2.0</td>\n      <td>27.0</td>\n      <td>15.354</td>\n      <td>2008-02-27</td>\n    </tr>\n    <tr>\n      <th>31</th>\n      <td>2009.0</td>\n      <td>3.0</td>\n      <td>2.0</td>\n      <td>15.195</td>\n      <td>2009-03-02</td>\n    </tr>\n    <tr>\n      <th>32</th>\n      <td>2010.0</td>\n      <td>3.0</td>\n      <td>31.0</td>\n      <td>15.351</td>\n      <td>2010-03-31</td>\n    </tr>\n    <tr>\n      <th>33</th>\n      <td>2011.0</td>\n      <td>3.0</td>\n      <td>7.0</td>\n      <td>14.704</td>\n      <td>2011-03-07</td>\n    </tr>\n    <tr>\n      <th>34</th>\n      <td>2012.0</td>\n      <td>3.0</td>\n      <td>18.0</td>\n      <td>15.307</td>\n      <td>2012-03-18</td>\n    </tr>\n    <tr>\n      <th>35</th>\n      <td>2013.0</td>\n      <td>3.0</td>\n      <td>14.0</td>\n      <td>15.196</td>\n      <td>2013-03-14</td>\n    </tr>\n    <tr>\n      <th>36</th>\n      <td>2014.0</td>\n      <td>3.0</td>\n      <td>20.0</td>\n      <td>15.007</td>\n      <td>2014-03-20</td>\n    </tr>\n    <tr>\n      <th>37</th>\n      <td>2015.0</td>\n      <td>2.0</td>\n      <td>22.0</td>\n      <td>14.554</td>\n      <td>2015-02-22</td>\n    </tr>\n    <tr>\n      <th>38</th>\n      <td>2016.0</td>\n      <td>3.0</td>\n      <td>22.0</td>\n      <td>14.566</td>\n      <td>2016-03-22</td>\n    </tr>\n    <tr>\n      <th>39</th>\n      <td>2017.0</td>\n      <td>3.0</td>\n      <td>5.0</td>\n      <td>14.449</td>\n      <td>2017-03-05</td>\n    </tr>\n    <tr>\n      <th>40</th>\n      <td>2018.0</td>\n      <td>3.0</td>\n      <td>14.0</td>\n      <td>14.499</td>\n      <td>2018-03-14</td>\n    </tr>\n    <tr>\n      <th>41</th>\n      <td>2019.0</td>\n      <td>3.0</td>\n      <td>11.0</td>\n      <td>14.896</td>\n      <td>2019-03-11</td>\n    </tr>\n    <tr>\n      <th>42</th>\n      <td>2020.0</td>\n      <td>3.0</td>\n      <td>4.0</td>\n      <td>15.071</td>\n      <td>2020-03-04</td>\n    </tr>\n    <tr>\n      <th>43</th>\n      <td>2021.0</td>\n      <td>3.0</td>\n      <td>11.0</td>\n      <td>14.866</td>\n      <td>2021-03-11</td>\n    </tr>\n    <tr>\n      <th>44</th>\n      <td>2022.0</td>\n      <td>2.0</td>\n      <td>21.0</td>\n      <td>14.933</td>\n      <td>2022-02-21</td>\n    </tr>\n  </tbody>\n</table>\n</div>"
     },
     "execution_count": 397,
     "metadata": {},
     "output_type": "execute_result"
    }
   ]
  },
  {
   "cell_type": "markdown",
   "metadata": {
    "id": "6pS97mKCmU63"
   },
   "source": [
    "For the most common maximum month, repeat the work above and create another plot."
   ]
  },
  {
   "cell_type": "code",
   "source": [
    "dfM = df[df.Month == 3]\n",
    "dfMaxExt = pd.DataFrame(columns=df.columns)\n",
    "i = -1\n",
    "for Year in years:\n",
    "    i += 1\n",
    "    dftM = dfM[dfM[\"Year\"]==Year]\n",
    "    if dftM.empty:\n",
    "        continue\n",
    "    myMax = np.argmax(dftM.Extent)\n",
    "    dfMaxExt.loc[i] = dftM.iloc[myMax]\n",
    "dfMaxExt"
   ],
   "metadata": {
    "id": "K-r3wHiwniuf"
   },
   "execution_count": 398,
   "outputs": [
    {
     "data": {
      "text/plain": "      Year Month   Day  Extent        Date\n1   1979.0   3.0   1.0  16.635  1979-03-01\n2   1980.0   3.0   5.0  16.302  1980-03-05\n3   1981.0   3.0  14.0  15.801  1981-03-14\n4   1982.0   3.0   5.0  16.315  1982-03-05\n5   1983.0   3.0  14.0  16.412  1983-03-14\n6   1984.0   3.0  18.0  15.809  1984-03-18\n7   1985.0   3.0  17.0  16.163  1985-03-17\n8   1986.0   3.0  10.0  16.158  1986-03-10\n9   1987.0   3.0   1.0  16.059  1987-03-01\n10  1988.0   3.0  10.0  16.309  1988-03-10\n11  1989.0   3.0   6.0  15.766  1989-03-06\n12  1990.0   3.0  12.0  16.249  1990-03-12\n13  1991.0   3.0  19.0  15.536  1991-03-19\n14  1992.0   3.0  12.0  15.576  1992-03-12\n15  1993.0   3.0  13.0  16.048  1993-03-13\n16  1994.0   3.0   2.0  15.765  1994-03-02\n17  1995.0   3.0  31.0  15.384  1995-03-31\n18  1996.0   3.0   8.0  15.337  1996-03-08\n19  1997.0   3.0  20.0  15.684  1997-03-20\n20  1998.0   3.0   9.0  15.835  1998-03-09\n21  1999.0   3.0  30.0  15.627  1999-03-30\n22  2000.0   3.0   3.0  15.498  2000-03-03\n23  2001.0   3.0   4.0  15.742  2001-03-04\n24  2002.0   3.0   9.0  15.624  2002-03-09\n25  2003.0   3.0  20.0  15.629  2003-03-20\n26  2004.0   3.0  10.0    15.3  2004-03-10\n27  2005.0   3.0   9.0  14.993  2005-03-09\n28  2006.0   3.0  11.0  14.777  2006-03-11\n29  2007.0   3.0  10.0  14.842  2007-03-10\n30  2008.0   3.0   9.0  15.352  2008-03-09\n31  2009.0   3.0   2.0  15.195  2009-03-02\n32  2010.0   3.0  31.0  15.351  2010-03-31\n33  2011.0   3.0   7.0  14.704  2011-03-07\n34  2012.0   3.0  18.0  15.307  2012-03-18\n35  2013.0   3.0  14.0  15.196  2013-03-14\n36  2014.0   3.0  20.0  15.007  2014-03-20\n37  2015.0   3.0   1.0  14.533  2015-03-01\n38  2016.0   3.0  22.0  14.566  2016-03-22\n39  2017.0   3.0   5.0  14.449  2017-03-05\n40  2018.0   3.0  14.0  14.499  2018-03-14\n41  2019.0   3.0  11.0  14.896  2019-03-11\n42  2020.0   3.0   4.0  15.071  2020-03-04\n43  2021.0   3.0  11.0  14.866  2021-03-11",
      "text/html": "<div>\n<style scoped>\n    .dataframe tbody tr th:only-of-type {\n        vertical-align: middle;\n    }\n\n    .dataframe tbody tr th {\n        vertical-align: top;\n    }\n\n    .dataframe thead th {\n        text-align: right;\n    }\n</style>\n<table border=\"1\" class=\"dataframe\">\n  <thead>\n    <tr style=\"text-align: right;\">\n      <th></th>\n      <th>Year</th>\n      <th>Month</th>\n      <th>Day</th>\n      <th>Extent</th>\n      <th>Date</th>\n    </tr>\n  </thead>\n  <tbody>\n    <tr>\n      <th>1</th>\n      <td>1979.0</td>\n      <td>3.0</td>\n      <td>1.0</td>\n      <td>16.635</td>\n      <td>1979-03-01</td>\n    </tr>\n    <tr>\n      <th>2</th>\n      <td>1980.0</td>\n      <td>3.0</td>\n      <td>5.0</td>\n      <td>16.302</td>\n      <td>1980-03-05</td>\n    </tr>\n    <tr>\n      <th>3</th>\n      <td>1981.0</td>\n      <td>3.0</td>\n      <td>14.0</td>\n      <td>15.801</td>\n      <td>1981-03-14</td>\n    </tr>\n    <tr>\n      <th>4</th>\n      <td>1982.0</td>\n      <td>3.0</td>\n      <td>5.0</td>\n      <td>16.315</td>\n      <td>1982-03-05</td>\n    </tr>\n    <tr>\n      <th>5</th>\n      <td>1983.0</td>\n      <td>3.0</td>\n      <td>14.0</td>\n      <td>16.412</td>\n      <td>1983-03-14</td>\n    </tr>\n    <tr>\n      <th>6</th>\n      <td>1984.0</td>\n      <td>3.0</td>\n      <td>18.0</td>\n      <td>15.809</td>\n      <td>1984-03-18</td>\n    </tr>\n    <tr>\n      <th>7</th>\n      <td>1985.0</td>\n      <td>3.0</td>\n      <td>17.0</td>\n      <td>16.163</td>\n      <td>1985-03-17</td>\n    </tr>\n    <tr>\n      <th>8</th>\n      <td>1986.0</td>\n      <td>3.0</td>\n      <td>10.0</td>\n      <td>16.158</td>\n      <td>1986-03-10</td>\n    </tr>\n    <tr>\n      <th>9</th>\n      <td>1987.0</td>\n      <td>3.0</td>\n      <td>1.0</td>\n      <td>16.059</td>\n      <td>1987-03-01</td>\n    </tr>\n    <tr>\n      <th>10</th>\n      <td>1988.0</td>\n      <td>3.0</td>\n      <td>10.0</td>\n      <td>16.309</td>\n      <td>1988-03-10</td>\n    </tr>\n    <tr>\n      <th>11</th>\n      <td>1989.0</td>\n      <td>3.0</td>\n      <td>6.0</td>\n      <td>15.766</td>\n      <td>1989-03-06</td>\n    </tr>\n    <tr>\n      <th>12</th>\n      <td>1990.0</td>\n      <td>3.0</td>\n      <td>12.0</td>\n      <td>16.249</td>\n      <td>1990-03-12</td>\n    </tr>\n    <tr>\n      <th>13</th>\n      <td>1991.0</td>\n      <td>3.0</td>\n      <td>19.0</td>\n      <td>15.536</td>\n      <td>1991-03-19</td>\n    </tr>\n    <tr>\n      <th>14</th>\n      <td>1992.0</td>\n      <td>3.0</td>\n      <td>12.0</td>\n      <td>15.576</td>\n      <td>1992-03-12</td>\n    </tr>\n    <tr>\n      <th>15</th>\n      <td>1993.0</td>\n      <td>3.0</td>\n      <td>13.0</td>\n      <td>16.048</td>\n      <td>1993-03-13</td>\n    </tr>\n    <tr>\n      <th>16</th>\n      <td>1994.0</td>\n      <td>3.0</td>\n      <td>2.0</td>\n      <td>15.765</td>\n      <td>1994-03-02</td>\n    </tr>\n    <tr>\n      <th>17</th>\n      <td>1995.0</td>\n      <td>3.0</td>\n      <td>31.0</td>\n      <td>15.384</td>\n      <td>1995-03-31</td>\n    </tr>\n    <tr>\n      <th>18</th>\n      <td>1996.0</td>\n      <td>3.0</td>\n      <td>8.0</td>\n      <td>15.337</td>\n      <td>1996-03-08</td>\n    </tr>\n    <tr>\n      <th>19</th>\n      <td>1997.0</td>\n      <td>3.0</td>\n      <td>20.0</td>\n      <td>15.684</td>\n      <td>1997-03-20</td>\n    </tr>\n    <tr>\n      <th>20</th>\n      <td>1998.0</td>\n      <td>3.0</td>\n      <td>9.0</td>\n      <td>15.835</td>\n      <td>1998-03-09</td>\n    </tr>\n    <tr>\n      <th>21</th>\n      <td>1999.0</td>\n      <td>3.0</td>\n      <td>30.0</td>\n      <td>15.627</td>\n      <td>1999-03-30</td>\n    </tr>\n    <tr>\n      <th>22</th>\n      <td>2000.0</td>\n      <td>3.0</td>\n      <td>3.0</td>\n      <td>15.498</td>\n      <td>2000-03-03</td>\n    </tr>\n    <tr>\n      <th>23</th>\n      <td>2001.0</td>\n      <td>3.0</td>\n      <td>4.0</td>\n      <td>15.742</td>\n      <td>2001-03-04</td>\n    </tr>\n    <tr>\n      <th>24</th>\n      <td>2002.0</td>\n      <td>3.0</td>\n      <td>9.0</td>\n      <td>15.624</td>\n      <td>2002-03-09</td>\n    </tr>\n    <tr>\n      <th>25</th>\n      <td>2003.0</td>\n      <td>3.0</td>\n      <td>20.0</td>\n      <td>15.629</td>\n      <td>2003-03-20</td>\n    </tr>\n    <tr>\n      <th>26</th>\n      <td>2004.0</td>\n      <td>3.0</td>\n      <td>10.0</td>\n      <td>15.3</td>\n      <td>2004-03-10</td>\n    </tr>\n    <tr>\n      <th>27</th>\n      <td>2005.0</td>\n      <td>3.0</td>\n      <td>9.0</td>\n      <td>14.993</td>\n      <td>2005-03-09</td>\n    </tr>\n    <tr>\n      <th>28</th>\n      <td>2006.0</td>\n      <td>3.0</td>\n      <td>11.0</td>\n      <td>14.777</td>\n      <td>2006-03-11</td>\n    </tr>\n    <tr>\n      <th>29</th>\n      <td>2007.0</td>\n      <td>3.0</td>\n      <td>10.0</td>\n      <td>14.842</td>\n      <td>2007-03-10</td>\n    </tr>\n    <tr>\n      <th>30</th>\n      <td>2008.0</td>\n      <td>3.0</td>\n      <td>9.0</td>\n      <td>15.352</td>\n      <td>2008-03-09</td>\n    </tr>\n    <tr>\n      <th>31</th>\n      <td>2009.0</td>\n      <td>3.0</td>\n      <td>2.0</td>\n      <td>15.195</td>\n      <td>2009-03-02</td>\n    </tr>\n    <tr>\n      <th>32</th>\n      <td>2010.0</td>\n      <td>3.0</td>\n      <td>31.0</td>\n      <td>15.351</td>\n      <td>2010-03-31</td>\n    </tr>\n    <tr>\n      <th>33</th>\n      <td>2011.0</td>\n      <td>3.0</td>\n      <td>7.0</td>\n      <td>14.704</td>\n      <td>2011-03-07</td>\n    </tr>\n    <tr>\n      <th>34</th>\n      <td>2012.0</td>\n      <td>3.0</td>\n      <td>18.0</td>\n      <td>15.307</td>\n      <td>2012-03-18</td>\n    </tr>\n    <tr>\n      <th>35</th>\n      <td>2013.0</td>\n      <td>3.0</td>\n      <td>14.0</td>\n      <td>15.196</td>\n      <td>2013-03-14</td>\n    </tr>\n    <tr>\n      <th>36</th>\n      <td>2014.0</td>\n      <td>3.0</td>\n      <td>20.0</td>\n      <td>15.007</td>\n      <td>2014-03-20</td>\n    </tr>\n    <tr>\n      <th>37</th>\n      <td>2015.0</td>\n      <td>3.0</td>\n      <td>1.0</td>\n      <td>14.533</td>\n      <td>2015-03-01</td>\n    </tr>\n    <tr>\n      <th>38</th>\n      <td>2016.0</td>\n      <td>3.0</td>\n      <td>22.0</td>\n      <td>14.566</td>\n      <td>2016-03-22</td>\n    </tr>\n    <tr>\n      <th>39</th>\n      <td>2017.0</td>\n      <td>3.0</td>\n      <td>5.0</td>\n      <td>14.449</td>\n      <td>2017-03-05</td>\n    </tr>\n    <tr>\n      <th>40</th>\n      <td>2018.0</td>\n      <td>3.0</td>\n      <td>14.0</td>\n      <td>14.499</td>\n      <td>2018-03-14</td>\n    </tr>\n    <tr>\n      <th>41</th>\n      <td>2019.0</td>\n      <td>3.0</td>\n      <td>11.0</td>\n      <td>14.896</td>\n      <td>2019-03-11</td>\n    </tr>\n    <tr>\n      <th>42</th>\n      <td>2020.0</td>\n      <td>3.0</td>\n      <td>4.0</td>\n      <td>15.071</td>\n      <td>2020-03-04</td>\n    </tr>\n    <tr>\n      <th>43</th>\n      <td>2021.0</td>\n      <td>3.0</td>\n      <td>11.0</td>\n      <td>14.866</td>\n      <td>2021-03-11</td>\n    </tr>\n  </tbody>\n</table>\n</div>"
     },
     "execution_count": 398,
     "metadata": {},
     "output_type": "execute_result"
    }
   ]
  },
  {
   "cell_type": "code",
   "execution_count": 399,
   "outputs": [
    {
     "data": {
      "text/plain": "<matplotlib.collections.PathCollection at 0x23403aeef10>"
     },
     "execution_count": 399,
     "metadata": {},
     "output_type": "execute_result"
    },
    {
     "data": {
      "text/plain": "<Figure size 720x720 with 1 Axes>",
      "image/png": "[encoded data removed]"
     },
     "metadata": {
      "needs_background": "light"
     },
     "output_type": "display_data"
    }
   ],
   "source": [
    "plt.scatter(dfMaxExt.Year,dfMaxExt.Extent)"
   ],
   "metadata": {
    "collapsed": false,
    "pycharm": {
     "name": "#%%\n"
    }
   }
  },
  {
   "cell_type": "markdown",
   "metadata": {
    "id": "FBkKHkFOmU63"
   },
   "source": [
    "Build a scatter plot of minimum day vs. minimum extent.  Do you see a pattern?"
   ]
  },
  {
   "cell_type": "code",
   "source": [
    "plt.scatter(dfMinExt.Extent,dfMinExt.Day)"
   ],
   "metadata": {
    "id": "3VyjUsr1njAe"
   },
   "execution_count": 400,
   "outputs": [
    {
     "data": {
      "text/plain": "<matplotlib.collections.PathCollection at 0x23403b48d60>"
     },
     "execution_count": 400,
     "metadata": {},
     "output_type": "execute_result"
    },
    {
     "data": {
      "text/plain": "<Figure size 720x720 with 1 Axes>",
      "image/png": "[encoded data removed]"
     },
     "metadata": {
      "needs_background": "light"
     },
     "output_type": "display_data"
    }
   ]
  },
  {
   "cell_type": "markdown",
   "metadata": {
    "id": "3OWcmHfwmU64"
   },
   "source": [
    "Submit your work as an attachment in email by Friday, March 4th at 11:59PM.  "
   ]
  }
 ],
 "metadata": {
  "kernelspec": {
   "display_name": "Python 3",
   "language": "python",
   "name": "python3"
  },
  "language_info": {
   "codemirror_mode": {
    "name": "ipython",
    "version": 3
   },
   "file_extension": ".py",
   "mimetype": "text/x-python",
   "name": "python",
   "nbconvert_exporter": "python",
   "pygments_lexer": "ipython3",
   "version": "3.7.3"
  },
  "colab": {
   "name": "Lab3_starter.ipynb",
   "provenance": [],
   "collapsed_sections": [],
   "history_visible": true
  }
 },
 "nbformat": 4,
 "nbformat_minor": 0
}