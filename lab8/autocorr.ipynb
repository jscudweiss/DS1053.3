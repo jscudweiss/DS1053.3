{
 "cells": [
  {
   "cell_type": "code",
   "execution_count": 50,
   "metadata": {},
   "outputs": [],
   "source": [
    "import numpy as np\n",
    "import pandas as pd\n",
    "import matplotlib.pyplot as plt"
   ]
  },
  {
   "cell_type": "code",
   "execution_count": 72,
   "metadata": {},
   "outputs": [
    {
     "data": {
      "text/plain": [
       "0    100\n",
       "1    121\n",
       "2    144\n",
       "3    169\n",
       "4    196\n",
       "5    225\n",
       "6    256\n",
       "7    289\n",
       "8    324\n",
       "9    361\n",
       "dtype: int64"
      ]
     },
     "execution_count": 72,
     "metadata": {},
     "output_type": "execute_result"
    }
   ],
   "source": [
    "num_times = 400\n",
    "times = np.arange(num_times)\n",
    "data = np.arange(10, 10+num_times)**2\n",
    "series0 = pd.Series(data, index=times)\n",
    "series0[:10]"
   ]
  },
  {
   "cell_type": "code",
   "execution_count": 73,
   "metadata": {},
   "outputs": [
    {
     "data": {
      "text/plain": [
       "0   -100.0\n",
       "1    121.0\n",
       "2   -144.0\n",
       "3    169.0\n",
       "4   -196.0\n",
       "5    225.0\n",
       "6   -256.0\n",
       "7    289.0\n",
       "8   -324.0\n",
       "9    361.0\n",
       "dtype: float64"
      ]
     },
     "execution_count": 73,
     "metadata": {},
     "output_type": "execute_result"
    }
   ],
   "source": [
    "data = data * (data%2 - 0.5)*2\n",
    "series1 = pd.Series(data, index=times)\n",
    "series1[:10]"
   ]
  },
  {
   "cell_type": "code",
   "execution_count": 74,
   "metadata": {},
   "outputs": [
    {
     "data": {
      "text/plain": [
       "1970-01-01 00:00:00   -100.0\n",
       "1970-01-01 00:00:01    121.0\n",
       "1970-01-01 00:00:02   -144.0\n",
       "1970-01-01 00:00:03    169.0\n",
       "1970-01-01 00:00:04   -196.0\n",
       "1970-01-01 00:00:05    225.0\n",
       "1970-01-01 00:00:06   -256.0\n",
       "1970-01-01 00:00:07    289.0\n",
       "1970-01-01 00:00:08   -324.0\n",
       "1970-01-01 00:00:09    361.0\n",
       "dtype: float64"
      ]
     },
     "execution_count": 74,
     "metadata": {},
     "output_type": "execute_result"
    }
   ],
   "source": [
    "series0.index = pd.to_datetime(series0.index, unit=\"s\")   # s means seconds\n",
    "series1.index = pd.to_datetime(series1.index, unit=\"s\")   # s means seconds\n",
    "series1[:10]"
   ]
  },
  {
   "cell_type": "code",
   "execution_count": 75,
   "metadata": {},
   "outputs": [
    {
     "data": {
      "text/plain": [
       "DatetimeIndex(['1970-01-01 00:00:00', '1970-01-01 00:00:01',\n",
       "               '1970-01-01 00:00:02', '1970-01-01 00:00:03',\n",
       "               '1970-01-01 00:00:04', '1970-01-01 00:00:05',\n",
       "               '1970-01-01 00:00:06', '1970-01-01 00:00:07',\n",
       "               '1970-01-01 00:00:08', '1970-01-01 00:00:09'],\n",
       "              dtype='datetime64[ns]', freq=None)"
      ]
     },
     "execution_count": 75,
     "metadata": {},
     "output_type": "execute_result"
    }
   ],
   "source": [
    "series1.index[:10]"
   ]
  },
  {
   "cell_type": "code",
   "execution_count": 76,
   "metadata": {},
   "outputs": [
    {
     "data": {
      "text/plain": [
       "0.9999975611772964"
      ]
     },
     "execution_count": 76,
     "metadata": {},
     "output_type": "execute_result"
    }
   ],
   "source": [
    "series0.autocorr(2)"
   ]
  },
  {
   "cell_type": "code",
   "execution_count": 81,
   "metadata": {},
   "outputs": [
    {
     "data": {
      "text/plain": [
       "0.9890193618133056"
      ]
     },
     "execution_count": 81,
     "metadata": {},
     "output_type": "execute_result"
    }
   ],
   "source": [
    "series0.autocorr(200)"
   ]
  },
  {
   "cell_type": "code",
   "execution_count": 55,
   "metadata": {},
   "outputs": [
    {
     "data": {
      "text/plain": [
       "0.9996825279006146"
      ]
     },
     "execution_count": 55,
     "metadata": {},
     "output_type": "execute_result"
    }
   ],
   "source": [
    "series1.autocorr(2)"
   ]
  },
  {
   "cell_type": "code",
   "execution_count": 56,
   "metadata": {},
   "outputs": [
    {
     "data": {
      "text/plain": [
       "-0.9999209153495595"
      ]
     },
     "execution_count": 56,
     "metadata": {},
     "output_type": "execute_result"
    }
   ],
   "source": [
    "series1.autocorr()   # default is 1"
   ]
  },
  {
   "cell_type": "code",
   "execution_count": 57,
   "metadata": {},
   "outputs": [
    {
     "data": {
      "text/plain": [
       "1970-01-01 00:00:00       NaN\n",
       "1970-01-01 00:00:01       NaN\n",
       "1970-01-01 00:00:02       NaN\n",
       "1970-01-01 00:00:03       NaN\n",
       "1970-01-01 00:00:04       NaN\n",
       "1970-01-01 00:00:05       NaN\n",
       "1970-01-01 00:00:06       NaN\n",
       "1970-01-01 00:00:07    -100.0\n",
       "1970-01-01 00:00:08     121.0\n",
       "1970-01-01 00:00:09    -144.0\n",
       "1970-01-01 00:00:10     169.0\n",
       "1970-01-01 00:00:11    -196.0\n",
       "1970-01-01 00:00:12     225.0\n",
       "1970-01-01 00:00:13    -256.0\n",
       "1970-01-01 00:00:14     289.0\n",
       "1970-01-01 00:00:15    -324.0\n",
       "1970-01-01 00:00:16     361.0\n",
       "1970-01-01 00:00:17    -400.0\n",
       "1970-01-01 00:00:18     441.0\n",
       "1970-01-01 00:00:19    -484.0\n",
       "1970-01-01 00:00:20     529.0\n",
       "1970-01-01 00:00:21    -576.0\n",
       "1970-01-01 00:00:22     625.0\n",
       "1970-01-01 00:00:23    -676.0\n",
       "1970-01-01 00:00:24     729.0\n",
       "1970-01-01 00:00:25    -784.0\n",
       "1970-01-01 00:00:26     841.0\n",
       "1970-01-01 00:00:27    -900.0\n",
       "1970-01-01 00:00:28     961.0\n",
       "1970-01-01 00:00:29   -1024.0\n",
       "1970-01-01 00:00:30    1089.0\n",
       "1970-01-01 00:00:31   -1156.0\n",
       "1970-01-01 00:00:32    1225.0\n",
       "1970-01-01 00:00:33   -1296.0\n",
       "1970-01-01 00:00:34    1369.0\n",
       "1970-01-01 00:00:35   -1444.0\n",
       "1970-01-01 00:00:36    1521.0\n",
       "1970-01-01 00:00:37   -1600.0\n",
       "1970-01-01 00:00:38    1681.0\n",
       "1970-01-01 00:00:39   -1764.0\n",
       "dtype: float64"
      ]
     },
     "execution_count": 57,
     "metadata": {},
     "output_type": "execute_result"
    }
   ],
   "source": [
    "series1.shift(7)"
   ]
  },
  {
   "cell_type": "code",
   "execution_count": 58,
   "metadata": {},
   "outputs": [
    {
     "data": {
      "text/plain": [
       "-0.9961030711935859"
      ]
     },
     "execution_count": 58,
     "metadata": {},
     "output_type": "execute_result"
    }
   ],
   "source": [
    "series1.corr(series1.shift(7))"
   ]
  },
  {
   "cell_type": "code",
   "execution_count": 102,
   "metadata": {},
   "outputs": [
    {
     "data": {
      "text/plain": [
       "<BarContainer object of 400 artists>"
      ]
     },
     "execution_count": 102,
     "metadata": {},
     "output_type": "execute_result"
    },
    {
     "data": {
      "image/png": "[encoded data removed]",
      "text/plain": [
       "<Figure size 432x288 with 1 Axes>"
      ]
     },
     "metadata": {
      "needs_background": "light"
     },
     "output_type": "display_data"
    }
   ],
   "source": [
    "lags = range(400)\n",
    "corrs = np.array([series0.autocorr(n) for n in lags])\n",
    "plt.bar(lags, corrs, width=0.4)"
   ]
  },
  {
   "cell_type": "code",
   "execution_count": 103,
   "metadata": {},
   "outputs": [
    {
     "data": {
      "text/plain": [
       "<BarContainer object of 400 artists>"
      ]
     },
     "execution_count": 103,
     "metadata": {},
     "output_type": "execute_result"
    },
    {
     "data": {
      "image/png": "[encoded data removed]",
      "text/plain": [
       "<Figure size 432x288 with 1 Axes>"
      ]
     },
     "metadata": {
      "needs_background": "light"
     },
     "output_type": "display_data"
    }
   ],
   "source": [
    "lags = range(400)\n",
    "corrs = np.array([series1.autocorr(n) for n in lags])\n",
    "plt.bar(lags, corrs)\n",
    "                 "
   ]
  },
  {
   "cell_type": "code",
   "execution_count": 104,
   "metadata": {},
   "outputs": [
    {
     "data": {
      "text/plain": [
       "array([ 1.        , -0.99999875,  0.99999501, -0.99998874,  0.99997993,\n",
       "       -0.99996857,  0.99995464, -0.99993811,  0.99991897, -0.9998972 ,\n",
       "        0.99987278, -0.9998457 ,  0.99981594, -0.99978348,  0.9997483 ,\n",
       "       -0.99971038,  0.99966971, -0.99962626,  0.99958003, -0.99953098,\n",
       "        0.99947912, -0.9994244 ,  0.99936683, -0.99930638,  0.99924303,\n",
       "       -0.99917677,  0.99910758, -0.99903544,  0.99896034, -0.99888225,\n",
       "        0.99880117, -0.99871706,  0.99862994, -0.99853975,  0.99844651,\n",
       "       -0.99835017,  0.99825075, -0.99814819,  0.99804253, -0.9979337 ,\n",
       "        0.99782173, -0.99770655,  0.99758821, -0.99746663,  0.99734186,\n",
       "       -0.99721382,  0.99708255, -0.99694799,  0.99681017, -0.99666902,\n",
       "        0.99652461, -0.99637681,  0.99622573, -0.99607124,  0.99591345,\n",
       "       -0.99575221,  0.99558765, -0.9954196 ,  0.99524822, -0.99507333,\n",
       "        0.99489507, -0.99471327,  0.9945281 , -0.99433935,  0.99414722,\n",
       "       -0.99395147,  0.99375233, -0.99354955,  0.99334335, -0.99313349,\n",
       "        0.9929202 , -0.99270321,  0.9924828 , -0.99225865,  0.99203107,\n",
       "       -0.99179973,  0.99156495, -0.99132637,  0.99108436, -0.99083852,\n",
       "        0.99058925, -0.99033611,  0.99007955, -0.98981909,  0.98955521,\n",
       "       -0.9892874 ,  0.98901619, -0.988741  ,  0.98846243, -0.98817986,\n",
       "        0.9878939 , -0.98760392,  0.98731057, -0.98701315,  0.98671239,\n",
       "       -0.98640754,  0.98609936, -0.98578704,  0.98547143, -0.98515166,\n",
       "        0.98482861, -0.98450136,  0.98417088, -0.98383615,  0.98349822,\n",
       "       -0.98315602,  0.98281065, -0.98246097,  0.98210816, -0.981751  ,\n",
       "        0.98139076, -0.98102613,  0.98065847, -0.98028638,  0.97991131,\n",
       "       -0.97953177,  0.9791493 , -0.97876232,  0.97837247, -0.97797807,\n",
       "        0.97758086, -0.97717906,  0.97677451, -0.97636532,  0.97595346,\n",
       "       -0.97553691,  0.97511777, -0.97469389,  0.97426749, -0.9738363 ,\n",
       "        0.97340268, -0.97296422,  0.97252341, -0.97207771,  0.97162976,\n",
       "       -0.97117686,  0.9707218 , -0.97026174,  0.96979962, -0.96933244,\n",
       "        0.96886331, -0.96838905,  0.96791295, -0.96743166,  0.96694866,\n",
       "       -0.96646039,  0.96597054, -0.96547534,  0.96497869, -0.96447662,\n",
       "        0.96397324, -0.96346435,  0.9629543 , -0.96243866,  0.96192201,\n",
       "       -0.96139968,  0.96087649, -0.96034754,  0.95981789, -0.95928238,\n",
       "        0.95874635, -0.95820436,  0.95766201, -0.95711361,  0.95656504,\n",
       "       -0.9560103 ,  0.95545559, -0.95489459,  0.95433383, -0.95376665,\n",
       "        0.95319992, -0.95262666,  0.95205405, -0.95147478,  0.9508964 ,\n",
       "       -0.95031121,  0.94972715, -0.94913614,  0.94854649, -0.94794975,\n",
       "        0.94735463, -0.94675225,  0.94615177, -0.94554385,  0.94493811,\n",
       "       -0.94432476,  0.94371387, -0.94309519,  0.94247928, -0.94185537,\n",
       "        0.94123454, -0.94060552,  0.93997991, -0.93934589,  0.93871561,\n",
       "       -0.9380767 ,  0.93744188, -0.9367982 ,  0.93615898, -0.93551065,\n",
       "        0.93486716, -0.93421429,  0.93356667, -0.9329094 ,  0.93225779,\n",
       "       -0.93159624,  0.93094079, -0.93027509,  0.92961593, -0.92894623,\n",
       "        0.92828352, -0.92760993,  0.92694384, -0.92626651,  0.92559718,\n",
       "       -0.92491626,  0.92424385, -0.92355948,  0.92288417, -0.92219649,\n",
       "        0.92151845, -0.92082761,  0.92014701, -0.91945317,  0.91877019,\n",
       "       -0.91807351,  0.91738833, -0.91668897,  0.91600178, -0.91529991,\n",
       "        0.9146109 , -0.91390668,  0.91321605, -0.91250965,  0.91181761,\n",
       "       -0.91110921,  0.91041597, -0.90970574,  0.90901151, -0.90829965,\n",
       "        0.90760464, -0.90689133,  0.90619579, -0.90548122,  0.90478537,\n",
       "       -0.90406975,  0.90337383, -0.90265735,  0.90196162, -0.9012445 ,\n",
       "        0.9005492 , -0.89983165,  0.89913706, -0.8984193 ,  0.89772569,\n",
       "       -0.89700795,  0.8963156 , -0.89559812,  0.89490733, -0.89419034,\n",
       "        0.89350141, -0.89278517,  0.89209842, -0.89138318,  0.89069893,\n",
       "       -0.88998496,  0.88930357, -0.88859114,  0.88791296, -0.88720236,\n",
       "        0.88652775, -0.88581928,  0.88514864, -0.88444261,  0.88377633,\n",
       "       -0.88307306,  0.88241158, -0.8817114 ,  0.88105516, -0.88035842,\n",
       "        0.87970788, -0.87901495,  0.87837061, -0.87768186,  0.87704423,\n",
       "       -0.87636007,  0.8757297 , -0.87505054,  0.874428  , -0.87375429,\n",
       "        0.87314018, -0.87247238,  0.87186735, -0.87120595,  0.87061068,\n",
       "       -0.8699562 ,  0.86937141, -0.86872439,  0.86815085, -0.86751187,\n",
       "        0.86695041, -0.86632009,  0.86577157, -0.86515056,  0.86461593,\n",
       "       -0.86400493,  0.86348519, -0.86288495,  0.86238116, -0.86179247,\n",
       "        0.86130581, -0.86072953,  0.86026123, -0.85969827,  0.8592497 ,\n",
       "       -0.85870104,  0.85827364, -0.85774036,  0.85733571, -0.85681895,\n",
       "        0.85643877, -0.85593978,  0.85558593, -0.85510606,  0.85478059,\n",
       "       -0.8543213 ,  0.85402643, -0.85358933,  0.8533275 , -0.85291434,\n",
       "        0.85268823, -0.85230093,  0.8521135 , -0.85175416,  0.85160867,\n",
       "       -0.85127962,  0.85117967, -0.85088346,  0.85083306, -0.85057253,\n",
       "        0.85057615, -0.85035444,  0.85041706, -0.85023766,  0.85036486,\n",
       "       -0.85023167,  0.85042972, -0.85034712,  0.85062307, -0.85059596,\n",
       "        0.85095781, -0.85099171,  0.85144854, -0.85154967,  0.85211181,\n",
       "       -0.85228723,  0.8529665 , -0.85322424,  0.85403421, -0.85438341,\n",
       "        0.85533972, -0.85579083,  0.8569116 , -0.85747659,  0.85878287,\n",
       "       -0.85947551,  0.8609919 , -0.86182802,  0.86358335, -0.86458122,\n",
       "        0.86660945, -0.8677901 ,  0.87013139, -0.87151903,  0.874221  ,\n",
       "       -0.87584336,  0.87896264, -0.88085116,  0.88445516, -0.88664489,\n",
       "        0.89081368, -0.89334246,  0.8981706 , -0.90107678,  0.90667437,\n",
       "       -0.90999167,  0.9164833 , -0.92023004,  0.92774861, -0.93190613,\n",
       "        0.94057505, -0.94504507,  0.95493603, -0.95945817,  0.97049822,\n",
       "       -0.97449471,  0.986276  , -0.98857608,  1.        ,         nan])"
      ]
     },
     "execution_count": 104,
     "metadata": {},
     "output_type": "execute_result"
    }
   ],
   "source": [
    "corrs"
   ]
  },
  {
   "cell_type": "code",
   "execution_count": 99,
   "metadata": {},
   "outputs": [
    {
     "data": {
      "text/plain": [
       "1970-01-01 00:00:00         NaN\n",
       "1970-01-01 00:00:01         NaN\n",
       "1970-01-01 00:00:02         NaN\n",
       "1970-01-01 00:00:03         NaN\n",
       "1970-01-01 00:00:04         NaN\n",
       "1970-01-01 00:00:05         NaN\n",
       "1970-01-01 00:00:06         NaN\n",
       "1970-01-01 00:00:07         NaN\n",
       "1970-01-01 00:00:08         NaN\n",
       "1970-01-01 00:00:09         NaN\n",
       "1970-01-01 00:00:10         NaN\n",
       "1970-01-01 00:00:11         NaN\n",
       "1970-01-01 00:00:12         NaN\n",
       "1970-01-01 00:00:13         NaN\n",
       "1970-01-01 00:00:14         NaN\n",
       "1970-01-01 00:00:15         NaN\n",
       "1970-01-01 00:00:16         NaN\n",
       "1970-01-01 00:00:17         NaN\n",
       "1970-01-01 00:00:18         NaN\n",
       "1970-01-01 00:00:19         NaN\n",
       "1970-01-01 00:00:20         NaN\n",
       "1970-01-01 00:00:21         NaN\n",
       "1970-01-01 00:00:22         NaN\n",
       "1970-01-01 00:00:23         NaN\n",
       "1970-01-01 00:00:24         NaN\n",
       "1970-01-01 00:00:25         NaN\n",
       "1970-01-01 00:00:26         NaN\n",
       "1970-01-01 00:00:27         NaN\n",
       "1970-01-01 00:00:28         NaN\n",
       "1970-01-01 00:00:29         NaN\n",
       "                         ...   \n",
       "1970-01-01 00:06:10    109561.0\n",
       "1970-01-01 00:06:11   -110224.0\n",
       "1970-01-01 00:06:12    110889.0\n",
       "1970-01-01 00:06:13   -111556.0\n",
       "1970-01-01 00:06:14    112225.0\n",
       "1970-01-01 00:06:15   -112896.0\n",
       "1970-01-01 00:06:16    113569.0\n",
       "1970-01-01 00:06:17   -114244.0\n",
       "1970-01-01 00:06:18    114921.0\n",
       "1970-01-01 00:06:19   -115600.0\n",
       "1970-01-01 00:06:20    116281.0\n",
       "1970-01-01 00:06:21   -116964.0\n",
       "1970-01-01 00:06:22    117649.0\n",
       "1970-01-01 00:06:23   -118336.0\n",
       "1970-01-01 00:06:24    119025.0\n",
       "1970-01-01 00:06:25   -119716.0\n",
       "1970-01-01 00:06:26    120409.0\n",
       "1970-01-01 00:06:27   -121104.0\n",
       "1970-01-01 00:06:28    121801.0\n",
       "1970-01-01 00:06:29   -122500.0\n",
       "1970-01-01 00:06:30    123201.0\n",
       "1970-01-01 00:06:31   -123904.0\n",
       "1970-01-01 00:06:32    124609.0\n",
       "1970-01-01 00:06:33   -125316.0\n",
       "1970-01-01 00:06:34    126025.0\n",
       "1970-01-01 00:06:35   -126736.0\n",
       "1970-01-01 00:06:36    127449.0\n",
       "1970-01-01 00:06:37   -128164.0\n",
       "1970-01-01 00:06:38    128881.0\n",
       "1970-01-01 00:06:39   -129600.0\n",
       "Length: 400, dtype: float64"
      ]
     },
     "execution_count": 99,
     "metadata": {},
     "output_type": "execute_result"
    }
   ],
   "source": [
    "series1.shift(49)"
   ]
  },
  {
   "cell_type": "code",
   "execution_count": 69,
   "metadata": {},
   "outputs": [
    {
     "data": {
      "text/plain": [
       "0.9922287323794656"
      ]
     },
     "execution_count": 69,
     "metadata": {},
     "output_type": "execute_result"
    }
   ],
   "source": [
    "series1.autocorr(-10)"
   ]
  },
  {
   "cell_type": "code",
   "execution_count": 70,
   "metadata": {},
   "outputs": [
    {
     "data": {
      "text/plain": [
       "0.9922287323794656"
      ]
     },
     "execution_count": 70,
     "metadata": {},
     "output_type": "execute_result"
    }
   ],
   "source": [
    "series1.autocorr(10)"
   ]
  },
  {
   "cell_type": "code",
   "execution_count": null,
   "metadata": {},
   "outputs": [],
   "source": []
  }
 ],
 "metadata": {
  "kernelspec": {
   "display_name": "Python 3",
   "language": "python",
   "name": "python3"
  },
  "language_info": {
   "codemirror_mode": {
    "name": "ipython",
    "version": 3
   },
   "file_extension": ".py",
   "mimetype": "text/x-python",
   "name": "python",
   "nbconvert_exporter": "python",
   "pygments_lexer": "ipython3",
   "version": "3.7.3"
  }
 },
 "nbformat": 4,
 "nbformat_minor": 2
}
