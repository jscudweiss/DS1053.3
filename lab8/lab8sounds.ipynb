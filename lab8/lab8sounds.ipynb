{
 "cells": [
  {
   "cell_type": "code",
   "execution_count": 64,
   "metadata": {
    "collapsed": true
   },
   "outputs": [],
   "source": [
    "import numpy as np\n",
    "import pandas as pd\n",
    "import matplotlib.pyplot as plt\n",
    "import wave as wv\n",
    "from io import StringIO"
   ]
  },
  {
   "cell_type": "code",
   "execution_count": 65,
   "outputs": [],
   "source": [
    "path = 'sounds-20220430/'\n",
    "A = wv.open('sounds-20220430/aMinor.wav')\n",
    "B = wv.open('sounds-20220430/cMajor.wav')\n",
    "C = wv.open('sounds-20220430/noise.wav')\n",
    "D = wv.open('sounds-20220430/sine.wav')\n",
    "E = wv.open('sounds-20220430/square.wav')"
   ],
   "metadata": {
    "collapsed": false,
    "pycharm": {
     "name": "#%%\n"
    }
   }
  },
  {
   "cell_type": "code",
   "execution_count": 66,
   "outputs": [
    {
     "name": "stdout",
     "output_type": "stream",
     "text": [
      "44100 : 44100\n",
      "44100 : 44100\n",
      "44100 : 44100\n",
      "44100 : 44100\n",
      "44100 : 44100\n"
     ]
    }
   ],
   "source": [
    "ALen = A.getnframes()\n",
    "AFrq = A.getframerate()\n",
    "print(ALen.__str__() +\" : \"+ AFrq.__str__())\n",
    "BLen = B.getnframes()\n",
    "BFrq = B.getframerate()\n",
    "print(BLen.__str__() +\" : \"+ BFrq.__str__())\n",
    "CLen = C.getnframes()\n",
    "CFrq = C.getframerate()\n",
    "print(CLen.__str__() +\" : \"+ CFrq.__str__())\n",
    "DLen = D.getnframes()\n",
    "DFrq = D.getframerate()\n",
    "print(DLen.__str__() +\" : \"+ DFrq.__str__())\n",
    "ELen = E.getnframes()\n",
    "EFrq = E.getframerate()\n",
    "print(ELen.__str__() +\" : \"+ EFrq.__str__())"
   ],
   "metadata": {
    "collapsed": false,
    "pycharm": {
     "name": "#%%\n"
    }
   }
  },
  {
   "cell_type": "code",
   "execution_count": 70,
   "outputs": [
    {
     "name": "stdout",
     "output_type": "stream",
     "text": [
      "[]\n"
     ]
    },
    {
     "name": "stderr",
     "output_type": "stream",
     "text": [
      "C:\\Users\\jscud\\AppData\\Local\\Temp\\ipykernel_13184\\4093676493.py:1: DeprecationWarning: The binary mode of fromstring is deprecated, as it behaves surprisingly on unicode inputs. Use frombuffer instead\n",
      "  AFrames = np.fromstring(str(A.readframes(ALen), 'utf-8'), dtype=np.int16)\n"
     ]
    }
   ],
   "source": [
    "AFrames = np.fromstring(str(A.readframes(ALen), 'utf-8'), dtype=np.int16)\n",
    "print(AFrames)"
   ],
   "metadata": {
    "collapsed": false,
    "pycharm": {
     "name": "#%%\n"
    }
   }
  },
  {
   "cell_type": "code",
   "execution_count": 67,
   "outputs": [],
   "source": [],
   "metadata": {
    "collapsed": false,
    "pycharm": {
     "name": "#%%\n"
    }
   }
  }
 ],
 "metadata": {
  "kernelspec": {
   "display_name": "Python 3",
   "language": "python",
   "name": "python3"
  },
  "language_info": {
   "codemirror_mode": {
    "name": "ipython",
    "version": 2
   },
   "file_extension": ".py",
   "mimetype": "text/x-python",
   "name": "python",
   "nbconvert_exporter": "python",
   "pygments_lexer": "ipython2",
   "version": "2.7.6"
  }
 },
 "nbformat": 4,
 "nbformat_minor": 0
}