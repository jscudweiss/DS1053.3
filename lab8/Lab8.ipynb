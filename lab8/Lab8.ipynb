{
 "cells": [
  {
   "cell_type": "markdown",
   "metadata": {
    "id": "ogcEO62fGdN3"
   },
   "source": [
    "    # Lab 8   Find the frequencies"
   ]
  },
  {
   "cell_type": "code",
   "source": [
    "import numpy as np\n",
    "import pandas as pd\n",
    "import matplotlib.pyplot as plt\n",
    "from datetime import datetime as dt"
   ],
   "metadata": {
    "id": "p1pvbq0uHwG5"
   },
   "execution_count": 23,
   "outputs": []
  },
  {
   "cell_type": "markdown",
   "metadata": {
    "id": "-rhfP-quGdN6"
   },
   "source": [
    "Begin by loading the CSV file provided into a DataFrame"
   ]
  },
  {
   "cell_type": "code",
   "source": [
    "csvDat = pd.read_csv('lab8.csv')\n",
    "print(csvDat)"
   ],
   "metadata": {
    "id": "4-7IlITpGuNi",
    "colab": {
     "base_uri": "https://localhost:8080/"
    },
    "outputId": "28f18a7e-4028-4f7b-dfb4-81f312d0eaec"
   },
   "execution_count": 24,
   "outputs": [
    {
     "name": "stdout",
     "output_type": "stream",
     "text": [
      "                          Unnamed: 0         A         B    C         D  \\\n",
      "0      1970-01-01 00:00:00.000000000 -0.253426  0.000000 -1.0  0.000000   \n",
      "1      1970-01-01 00:00:00.000022676 -0.468427  0.036466  1.0  0.045119   \n",
      "2      1970-01-01 00:00:00.000045351  0.270393  0.072883  1.0  0.090138   \n",
      "3      1970-01-01 00:00:00.000068027  0.382936  0.109203  1.0  0.134954   \n",
      "4      1970-01-01 00:00:00.000090703 -0.152181  0.145378  1.0  0.179467   \n",
      "...                              ...       ...       ...  ...       ...   \n",
      "44095  1970-01-01 00:00:00.999886621 -0.823542 -0.181360 -1.0 -0.223577   \n",
      "44096  1970-01-01 00:00:00.999909297  0.374306 -0.145378 -1.0 -0.179467   \n",
      "44097  1970-01-01 00:00:00.999931973  0.112836 -0.109203 -1.0 -0.134954   \n",
      "44098  1970-01-01 00:00:00.999954649  0.343497 -0.072883 -1.0 -0.090138   \n",
      "44099  1970-01-01 00:00:00.999977324  0.058708 -0.036466 -1.0 -0.045119   \n",
      "\n",
      "              E  \n",
      "0      0.000000  \n",
      "1      0.076461  \n",
      "2      0.152427  \n",
      "3      0.227406  \n",
      "4      0.300912  \n",
      "...         ...  \n",
      "44095 -0.372473  \n",
      "44096 -0.300912  \n",
      "44097 -0.227406  \n",
      "44098 -0.152427  \n",
      "44099 -0.076461  \n",
      "\n",
      "[44100 rows x 6 columns]\n"
     ]
    }
   ]
  },
  {
   "cell_type": "code",
   "source": [
    "csvDat['Times'] =  ([pd.Timestamp(time) for time in csvDat['Unnamed: 0']])\n",
    "#print(times)"
   ],
   "metadata": {
    "id": "ScRqBmFQSnmn"
   },
   "execution_count": 25,
   "outputs": []
  },
  {
   "cell_type": "markdown",
   "metadata": {
    "id": "r3OBu-qPGdN7"
   },
   "source": [
    "Build ACF plots for each of the columns (I'd suggest using lags up to 400)"
   ]
  },
  {
   "cell_type": "code",
   "source": [
    "lags = range(0,1200)"
   ],
   "metadata": {
    "id": "te-BF-g2KMC2"
   },
   "execution_count": 26,
   "outputs": []
  },
  {
   "cell_type": "code",
   "source": [
    "corrsA = np.array([csvDat.A.autocorr(n) for n in lags])\n",
    "plt.plot(lags, corrsA, width =0.4)"
   ],
   "metadata": {
    "colab": {
     "base_uri": "https://localhost:8080/",
     "height": 283
    },
    "id": "oIMdvWqQK-vV",
    "outputId": "90d882b7-aa60-4e49-82e5-da9f84e7ab98"
   },
   "execution_count": 27,
   "outputs": [
    {
     "data": {
      "text/plain": "<BarContainer object of 1200 artists>"
     },
     "execution_count": 27,
     "metadata": {},
     "output_type": "execute_result"
    },
    {
     "data": {
      "text/plain": "<Figure size 432x288 with 1 Axes>",
      "image/png": "[encoded data removed]"
     },
     "metadata": {
      "needs_background": "light"
     },
     "output_type": "display_data"
    }
   ]
  },
  {
   "cell_type": "code",
   "source": [
    "corrsB = np.array([csvDat.B.autocorr(n) for n in lags])\n",
    "plt.plot(lags, corrsB, width=0.4)"
   ],
   "metadata": {
    "colab": {
     "base_uri": "https://localhost:8080/",
     "height": 283
    },
    "id": "eNCF6HJRJ-Yu",
    "outputId": "2ecec479-83c1-486d-e614-d68f08b9ad21"
   },
   "execution_count": 28,
   "outputs": [
    {
     "data": {
      "text/plain": "<BarContainer object of 1200 artists>"
     },
     "execution_count": 28,
     "metadata": {},
     "output_type": "execute_result"
    },
    {
     "data": {
      "text/plain": "<Figure size 432x288 with 1 Axes>",
      "image/png": "[encoded data removed]"
     },
     "metadata": {
      "needs_background": "light"
     },
     "output_type": "display_data"
    }
   ]
  },
  {
   "cell_type": "code",
   "source": [
    "corrsC = np.array([csvDat.C.autocorr(n) for n in lags])\n",
    "plt.plot(lags, corrsC, width=0.4)\n",
    "plt.show\n"
   ],
   "metadata": {
    "colab": {
     "base_uri": "https://localhost:8080/",
     "height": 283
    },
    "id": "hXNm2ypLJ-wu",
    "outputId": "174398b7-a289-42da-f5f2-0f1ffa043c41"
   },
   "execution_count": 29,
   "outputs": [
    {
     "data": {
      "text/plain": "<BarContainer object of 1200 artists>"
     },
     "execution_count": 29,
     "metadata": {},
     "output_type": "execute_result"
    },
    {
     "data": {
      "text/plain": "<Figure size 432x288 with 1 Axes>",
      "image/png": "[encoded data removed]"
     },
     "metadata": {
      "needs_background": "light"
     },
     "output_type": "display_data"
    }
   ]
  },
  {
   "cell_type": "code",
   "source": [
    "corrsD = np.array([csvDat.D.autocorr(n) for n in lags])\n",
    "plt.plot(lags, corrsD, width=0.4)\n",
    "plt.show"
   ],
   "metadata": {
    "colab": {
     "base_uri": "https://localhost:8080/",
     "height": 283
    },
    "id": "xBsqko_KJ_A-",
    "outputId": "f56c8278-1c92-4257-d1fb-ae4e1f922daf"
   },
   "execution_count": 30,
   "outputs": [
    {
     "data": {
      "text/plain": "<BarContainer object of 1200 artists>"
     },
     "execution_count": 30,
     "metadata": {},
     "output_type": "execute_result"
    },
    {
     "data": {
      "text/plain": "<Figure size 432x288 with 1 Axes>",
      "image/png": "[encoded data removed]"
     },
     "metadata": {
      "needs_background": "light"
     },
     "output_type": "display_data"
    }
   ]
  },
  {
   "cell_type": "code",
   "source": [
    "corrsE = np.array([csvDat.E.autocorr(n) for n in lags])\n",
    "plt.plot(lags, corrsE, width=0.4)\n",
    "plt.show"
   ],
   "metadata": {
    "colab": {
     "base_uri": "https://localhost:8080/",
     "height": 283
    },
    "id": "iT0G1Sc8J_Qv",
    "outputId": "34d1a344-5349-4e9b-9970-04abd8684162"
   },
   "execution_count": 31,
   "outputs": [
    {
     "data": {
      "text/plain": "<BarContainer object of 1200 artists>"
     },
     "execution_count": 31,
     "metadata": {},
     "output_type": "execute_result"
    },
    {
     "data": {
      "text/plain": "<Figure size 432x288 with 1 Axes>",
      "image/png": "[encoded data removed]"
     },
     "metadata": {
      "needs_background": "light"
     },
     "output_type": "display_data"
    }
   ]
  },
  {
   "cell_type": "markdown",
   "metadata": {
    "id": "2OzdYjocGdN9"
   },
   "source": [
    "Identify which of the columns is random "
   ]
  },
  {
   "cell_type": "markdown",
   "source": [
    "It seems column A is random, as the correlation value is consistently low all other graphs have spikes in correlation somewhere"
   ],
   "metadata": {
    "id": "KUaFw5D0NGpX"
   }
  },
  {
   "cell_type": "markdown",
   "metadata": {
    "id": "AIKaato4GdN_"
   },
   "source": [
    "For each non-random column, find lags that give high correlation and use these to compute the frequency.  Note that you'll need to figure out the sample rate to do this."
   ]
  },
  {
   "cell_type": "code",
   "source": [
    "sampleRate = csvDat['Times'].diff().mean()\n",
    "sampleRate"
   ],
   "metadata": {
    "id": "SdRDLK57GvwV",
    "colab": {
     "base_uri": "https://localhost:8080/"
    },
    "outputId": "443198f5-ad75-4366-dd47-97f29b08231e"
   },
   "execution_count": 32,
   "outputs": [
    {
     "data": {
      "text/plain": "Timedelta('0 days 00:00:00.000022675')"
     },
     "execution_count": 32,
     "metadata": {},
     "output_type": "execute_result"
    }
   ]
  },
  {
   "cell_type": "code",
   "source": [
    "pd.where"
   ],
   "metadata": {
    "colab": {
     "base_uri": "https://localhost:8080/"
    },
    "id": "57mTcuGZnah0",
    "outputId": "2f9dcef2-7bd9-461d-9d43-1f86a08b6523"
   },
   "execution_count": 33,
   "outputs": [
    {
     "ename": "AttributeError",
     "evalue": "module 'pandas' has no attribute 'where'",
     "output_type": "error",
     "traceback": [
      "\u001B[1;31m---------------------------------------------------------------------------\u001B[0m",
      "\u001B[1;31mAttributeError\u001B[0m                            Traceback (most recent call last)",
      "Input \u001B[1;32mIn [33]\u001B[0m, in \u001B[0;36m<cell line: 1>\u001B[1;34m()\u001B[0m\n\u001B[1;32m----> 1\u001B[0m \u001B[43mpd\u001B[49m\u001B[38;5;241;43m.\u001B[39;49m\u001B[43mwhere\u001B[49m\n",
      "File \u001B[1;32m~\\PycharmProjects\\histVotingRecordAnalysis\\venv\\lib\\site-packages\\pandas\\__init__.py:261\u001B[0m, in \u001B[0;36m__getattr__\u001B[1;34m(name)\u001B[0m\n\u001B[0;32m    257\u001B[0m     \u001B[38;5;28;01mfrom\u001B[39;00m \u001B[38;5;21;01mpandas\u001B[39;00m\u001B[38;5;21;01m.\u001B[39;00m\u001B[38;5;21;01mcore\u001B[39;00m\u001B[38;5;21;01m.\u001B[39;00m\u001B[38;5;21;01marrays\u001B[39;00m\u001B[38;5;21;01m.\u001B[39;00m\u001B[38;5;21;01msparse\u001B[39;00m \u001B[38;5;28;01mimport\u001B[39;00m SparseArray \u001B[38;5;28;01mas\u001B[39;00m _SparseArray\n\u001B[0;32m    259\u001B[0m     \u001B[38;5;28;01mreturn\u001B[39;00m _SparseArray\n\u001B[1;32m--> 261\u001B[0m \u001B[38;5;28;01mraise\u001B[39;00m \u001B[38;5;167;01mAttributeError\u001B[39;00m(\u001B[38;5;124mf\u001B[39m\u001B[38;5;124m\"\u001B[39m\u001B[38;5;124mmodule \u001B[39m\u001B[38;5;124m'\u001B[39m\u001B[38;5;124mpandas\u001B[39m\u001B[38;5;124m'\u001B[39m\u001B[38;5;124m has no attribute \u001B[39m\u001B[38;5;124m'\u001B[39m\u001B[38;5;132;01m{\u001B[39;00mname\u001B[38;5;132;01m}\u001B[39;00m\u001B[38;5;124m'\u001B[39m\u001B[38;5;124m\"\u001B[39m)\n",
      "\u001B[1;31mAttributeError\u001B[0m: module 'pandas' has no attribute 'where'"
     ]
    }
   ]
  },
  {
   "cell_type": "markdown",
   "metadata": {
    "id": "RwvODmPeGdOA"
   },
   "source": [
    "Complete this lab and turn in the notebook by email by Monday, May 2nd."
   ]
  }
 ],
 "metadata": {
  "kernelspec": {
   "display_name": "Python 3",
   "language": "python",
   "name": "python3"
  },
  "language_info": {
   "codemirror_mode": {
    "name": "ipython",
    "version": 3
   },
   "file_extension": ".py",
   "mimetype": "text/x-python",
   "name": "python",
   "nbconvert_exporter": "python",
   "pygments_lexer": "ipython3",
   "version": "3.7.3"
  },
  "colab": {
   "name": "Lab8.ipynb",
   "provenance": []
  }
 },
 "nbformat": 4,
 "nbformat_minor": 0
}